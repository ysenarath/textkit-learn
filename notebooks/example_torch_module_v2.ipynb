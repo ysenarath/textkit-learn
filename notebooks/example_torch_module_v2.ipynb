{
 "cells": [
  {
   "cell_type": "code",
   "execution_count": null,
   "id": "667960e4-4177-4245-a739-2efab843a119",
   "metadata": {},
   "outputs": [],
   "source": [
    "from tklearn.nn import Module"
   ]
  },
  {
   "cell_type": "code",
   "execution_count": null,
   "id": "5752d3d6-1cb0-492b-a805-4951521f4009",
   "metadata": {},
   "outputs": [],
   "source": [
    "import torch.nn as nn\n",
    "import torch.nn.functional as F\n",
    "\n",
    "class Model(Module):\n",
    "    def __init__(self):\n",
    "        super().__init__()\n",
    "        self.linear = nn.Linear(1, 20)\n",
    "\n",
    "    def forward(self, x):\n",
    "        return F.relu(self.linear(x))\n",
    "\n",
    "    def compute_loss(self, batch, output, loss_func=None):\n",
    "        return 0\n",
    "    \n",
    "    def predict_on_batch(self, batch):\n",
    "        return {\n",
    "            \"logits\": {\n",
    "                \"a\": self(batch[\"x\"]),\n",
    "                \"b\": [\"hello\"],\n",
    "            }\n",
    "        }"
   ]
  },
  {
   "cell_type": "code",
   "execution_count": null,
   "id": "764b1cae-b0a2-4344-82e6-449875de2619",
   "metadata": {},
   "outputs": [],
   "source": [
    "model = Model()\n",
    "comp_model = model.compile()"
   ]
  },
  {
   "cell_type": "code",
   "execution_count": null,
   "id": "582c305f-70b3-4981-a5ca-fa0ac7da1dcb",
   "metadata": {},
   "outputs": [],
   "source": [
    "import torch\n",
    "a = torch.tensor([1.0], dtype=torch.float32)\n",
    "comp_model.predict([a, a], batch_size=1)"
   ]
  },
  {
   "cell_type": "code",
   "execution_count": null,
   "id": "f32c6971-6e49-4589-a5e3-b0506942a115",
   "metadata": {},
   "outputs": [],
   "source": [
    "# comp_model.fit([a], optimizer=Ada"
   ]
  },
  {
   "cell_type": "code",
   "execution_count": null,
   "id": "c5fedc37-dc4e-4f30-87b3-8f7748f4acaf",
   "metadata": {},
   "outputs": [],
   "source": []
  }
 ],
 "metadata": {
  "kernelspec": {
   "display_name": "Python 3 (ipykernel)",
   "language": "python",
   "name": "python3"
  },
  "language_info": {
   "codemirror_mode": {
    "name": "ipython",
    "version": 3
   },
   "file_extension": ".py",
   "mimetype": "text/x-python",
   "name": "python",
   "nbconvert_exporter": "python",
   "pygments_lexer": "ipython3",
   "version": "3.11.5"
  }
 },
 "nbformat": 4,
 "nbformat_minor": 5
}
