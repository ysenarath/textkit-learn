{
 "cells": [
  {
   "cell_type": "code",
   "execution_count": null,
   "id": "90f4be6d-d22d-41a3-9197-d9903ed8be35",
   "metadata": {},
   "outputs": [],
   "source": [
    "# %load_ext autoreload\n",
    "# %autoreload 2"
   ]
  },
  {
   "cell_type": "code",
   "execution_count": null,
   "id": "ae89f5fa-9fb2-4cd6-a74c-a350297f93b9",
   "metadata": {},
   "outputs": [],
   "source": [
    "from torch.optim import AdamW\n",
    "from torch.utils.data import DataLoader\n",
    "\n",
    "from transformers import AutoTokenizer\n",
    "from datasets import load_dataset\n",
    "\n",
    "from tklearn.metrics import Accuracy, ArrayAccumulator\n",
    "from tklearn.nn import Trainer, Evaluator\n",
    "from tklearn.nn.optim import BERTAdamW\n",
    "from tklearn.nn.callbacks import ProgbarLogger, EarlyStopping\n",
    "from tklearn.nn.transformers import TransformerForSequenceClassification"
   ]
  },
  {
   "cell_type": "code",
   "execution_count": null,
   "id": "85c9740a-eca6-4a17-b937-4c24d9975982",
   "metadata": {},
   "outputs": [],
   "source": [
    "MODEL_NAME_OR_PATH = \"google-bert/bert-base-uncased\"\n",
    "DATASET = \"yelp_review_full\""
   ]
  },
  {
   "cell_type": "code",
   "execution_count": null,
   "id": "a1a92543-1d7b-4061-aa4f-e3393d3926dd",
   "metadata": {},
   "outputs": [],
   "source": [
    "dataset = load_dataset(DATASET)\n",
    "\n",
    "dataset[\"train\"][100]"
   ]
  },
  {
   "cell_type": "code",
   "execution_count": null,
   "id": "2b7f1717-9942-42e0-8239-ffc74cf2832d",
   "metadata": {},
   "outputs": [],
   "source": [
    "tokenizer = AutoTokenizer.from_pretrained(MODEL_NAME_OR_PATH)\n",
    "\n",
    "\n",
    "def tokenize_function(examples):\n",
    "    return tokenizer(examples[\"text\"], padding=\"max_length\", truncation=True)"
   ]
  },
  {
   "cell_type": "code",
   "execution_count": null,
   "id": "a5edf743-902b-49ac-90e8-7569b14fa619",
   "metadata": {},
   "outputs": [],
   "source": [
    "tokenized_datasets = dataset.map(tokenize_function, batched=True)\n",
    "tokenized_datasets = tokenized_datasets.rename_column(\"label\", \"labels\")\n",
    "tokenized_datasets.set_format(\"torch\")"
   ]
  },
  {
   "cell_type": "code",
   "execution_count": null,
   "id": "286e70a6-8d16-4c57-97ab-f53abfa8ca99",
   "metadata": {},
   "outputs": [],
   "source": [
    "small_train_dataset = tokenized_datasets[\"train\"].shuffle(seed=42).select(range(1000))\n",
    "small_eval_dataset = tokenized_datasets[\"test\"].shuffle(seed=42).select(range(1000))"
   ]
  },
  {
   "cell_type": "code",
   "execution_count": null,
   "id": "d6b3222c-7b3b-4b62-9e35-8c5051384412",
   "metadata": {},
   "outputs": [],
   "source": [
    "train_dataloader = DataLoader(small_train_dataset, shuffle=True, batch_size=16)\n",
    "valid_dataloader = DataLoader(small_eval_dataset, batch_size=32)"
   ]
  },
  {
   "cell_type": "code",
   "execution_count": null,
   "id": "f8478beb-f629-4868-82bf-48241d09c465",
   "metadata": {},
   "outputs": [],
   "source": [
    "NUM_EPOCHS = 20\n",
    "\n",
    "model = TransformerForSequenceClassification.from_pretrained(\n",
    "    MODEL_NAME_OR_PATH, num_labels=5\n",
    ")\n",
    "\n",
    "model.to(\"mps\")\n",
    "\n",
    "# model = model.compile()\n",
    "\n",
    "optimizer = BERTAdamW(\n",
    "    model.parameters(), lr=2e-6, warmup=0.1, t_total=len(train_dataloader) * NUM_EPOCHS\n",
    ")"
   ]
  },
  {
   "cell_type": "code",
   "execution_count": null,
   "id": "54af2acf-8fc6-420d-bcc4-b6dc020f0208",
   "metadata": {},
   "outputs": [],
   "source": [
    "# BREAK"
   ]
  },
  {
   "cell_type": "code",
   "execution_count": null,
   "id": "05706ab3-4f8b-49d1-ad27-ad78f8b5ff1b",
   "metadata": {},
   "outputs": [],
   "source": [
    "evaluator = Evaluator(\n",
    "    model,\n",
    "    valid_dataloader,\n",
    "    callbacks=[ProgbarLogger()],\n",
    "    metrics={\"acuracy\": Accuracy()},\n",
    "    prefix=\"valid_\",\n",
    ")\n",
    "\n",
    "trainer = Trainer(\n",
    "    model,\n",
    "    train_dataloader,\n",
    "    optimizer=optimizer,\n",
    "    callbacks=[ProgbarLogger(), EarlyStopping(patience=5)],\n",
    "    evaluator=evaluator,\n",
    "    epochs=NUM_EPOCHS,\n",
    ")"
   ]
  },
  {
   "cell_type": "code",
   "execution_count": null,
   "id": "0ba72734-3695-4232-bcdd-88843cc14c9e",
   "metadata": {},
   "outputs": [],
   "source": [
    "trainer.train()"
   ]
  },
  {
   "cell_type": "code",
   "execution_count": null,
   "id": "4c434074-7075-436c-a03e-424d868a0383",
   "metadata": {},
   "outputs": [],
   "source": [
    "grad_dims = []\n",
    "for pn, pp in model.named_parameters():\n",
    "    if pn.startswith(\"classification.\"):\n",
    "        continue\n",
    "    grad_dims.append((pp.data.shape, pp.data.numel()))"
   ]
  },
  {
   "cell_type": "code",
   "execution_count": null,
   "id": "b946ba77-2857-42b8-bbb3-9dc0201b4f2e",
   "metadata": {},
   "outputs": [],
   "source": [
    "import copy\n",
    "\n",
    "old_model = copy.deepcopy(model)"
   ]
  },
  {
   "cell_type": "code",
   "execution_count": null,
   "id": "b337081e-00aa-4c6f-b4b0-1f732f34b077",
   "metadata": {},
   "outputs": [],
   "source": [
    "old_grads = grad_dims"
   ]
  },
  {
   "cell_type": "code",
   "execution_count": null,
   "id": "fa69ae65-14c3-4147-8dbf-ab77bf5ceb23",
   "metadata": {},
   "outputs": [],
   "source": [
    "model.set_num_labels(10)"
   ]
  },
  {
   "cell_type": "code",
   "execution_count": null,
   "id": "b8b4c5ae-9a02-4711-b5a7-d910054291cc",
   "metadata": {},
   "outputs": [],
   "source": [
    "grad_dims = []\n",
    "for pn, pp in model.named_parameters():\n",
    "    ppold = old_model.get_parameter(pn)\n",
    "    if ppold.shape != pp.shape:\n",
    "        ppview = pp.data.view(-1)[: ppold.shape[0]]\n",
    "        grad_dims.append((ppview.shape, pp.data.numel()))\n",
    "        continue\n",
    "    grad_dims.append((pp.data.view(-1).shape, pp.data.numel()))"
   ]
  },
  {
   "cell_type": "code",
   "execution_count": null,
   "id": "abb0ee46-1c8d-42c7-bee2-b3a385ed4228",
   "metadata": {},
   "outputs": [],
   "source": [
    "# grad_dims"
   ]
  },
  {
   "cell_type": "code",
   "execution_count": null,
   "id": "28a0d558-5c01-485d-a07c-2bfab423d1bf",
   "metadata": {},
   "outputs": [],
   "source": [
    "model.history.to_pandas()[[\"loss\", \"valid_loss\"]].plot.line()"
   ]
  },
  {
   "cell_type": "code",
   "execution_count": null,
   "id": "726818b2-feb3-4014-a1b1-16729efedcf0",
   "metadata": {},
   "outputs": [],
   "source": [
    "# e = ValueError(\"hahah!\")\n",
    "\n",
    "# f\"message: {e!s}\""
   ]
  },
  {
   "cell_type": "code",
   "execution_count": null,
   "id": "75871dd7-d139-4b30-abb3-72537d1304ce",
   "metadata": {},
   "outputs": [],
   "source": []
  }
 ],
 "metadata": {
  "kernelspec": {
   "display_name": "Python 3 (ipykernel)",
   "language": "python",
   "name": "python3"
  },
  "language_info": {
   "codemirror_mode": {
    "name": "ipython",
    "version": 3
   },
   "file_extension": ".py",
   "mimetype": "text/x-python",
   "name": "python",
   "nbconvert_exporter": "python",
   "pygments_lexer": "ipython3",
   "version": "3.11.5"
  }
 },
 "nbformat": 4,
 "nbformat_minor": 5
}
