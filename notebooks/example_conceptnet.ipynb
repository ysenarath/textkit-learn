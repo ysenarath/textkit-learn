{
 "cells": [
  {
   "cell_type": "code",
   "execution_count": null,
   "id": "bac22032-7805-4f4b-8c0a-35c53241a764",
   "metadata": {},
   "outputs": [],
   "source": [
    "# %reload_ext autoreload\n",
    "# %autoreload 2"
   ]
  },
  {
   "cell_type": "code",
   "execution_count": null,
   "id": "a3e773d1-6574-43ee-8e98-3096f35c751b",
   "metadata": {},
   "outputs": [],
   "source": [
    "# from tklearn.kb.loader import KnowledgeLoaderConfig, AutoKnowledgeLoader\n",
    "\n",
    "# config = KnowledgeLoaderConfig.from_dict({\n",
    "#     \"identifier\": \"conceptnet\",\n",
    "# })\n",
    "\n",
    "# loader = AutoKnowledgeLoader(config)\n",
    "\n",
    "# items = set()\n",
    "\n",
    "# for i, row in enumerate(loader.iterrows()):\n",
    "#     items.add(row[\"start\"][\"@id\"])\n",
    "#     items.add(row[\"end\"][\"@id\"])\n",
    "\n",
    "# print(len(items))"
   ]
  },
  {
   "cell_type": "code",
   "execution_count": null,
   "id": "92074372-e15d-49cd-b397-1ab1c49c7c49",
   "metadata": {},
   "outputs": [],
   "source": []
  },
  {
   "cell_type": "code",
   "execution_count": null,
   "id": "c22c6fdf-91b5-44bc-ae06-8632ccb2c699",
   "metadata": {},
   "outputs": [],
   "source": [
    "from tklearn.kb import KnowledgeBase\n",
    "\n",
    "kb = KnowledgeBase(\"conceptnet/conceptnet-v5.7.0\")"
   ]
  },
  {
   "cell_type": "code",
   "execution_count": null,
   "id": "83b2375c-d55b-49fc-9e8d-1024fd921de7",
   "metadata": {},
   "outputs": [],
   "source": [
    "kb.index.frozen"
   ]
  },
  {
   "cell_type": "code",
   "execution_count": null,
   "id": "3ee0b972-6353-4657-9212-99e47d2433d4",
   "metadata": {},
   "outputs": [],
   "source": [
    "vocab = kb.get_vocab()"
   ]
  },
  {
   "cell_type": "code",
   "execution_count": null,
   "id": "520a7d45-49af-428a-906c-a2784d44d835",
   "metadata": {},
   "outputs": [],
   "source": [
    "vocab.get_index(\"apple\")"
   ]
  },
  {
   "cell_type": "code",
   "execution_count": null,
   "id": "a05225c6-ac4d-4bc3-b62b-23727aec5df9",
   "metadata": {},
   "outputs": [],
   "source": []
  }
 ],
 "metadata": {
  "kernelspec": {
   "display_name": "Python 3 (ipykernel)",
   "language": "python",
   "name": "python3"
  },
  "language_info": {
   "codemirror_mode": {
    "name": "ipython",
    "version": 3
   },
   "file_extension": ".py",
   "mimetype": "text/x-python",
   "name": "python",
   "nbconvert_exporter": "python",
   "pygments_lexer": "ipython3",
   "version": "3.11.5"
  }
 },
 "nbformat": 4,
 "nbformat_minor": 5
}
