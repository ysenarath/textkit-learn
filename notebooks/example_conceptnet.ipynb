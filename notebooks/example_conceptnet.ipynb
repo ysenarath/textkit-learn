{
 "cells": [
  {
   "cell_type": "code",
   "execution_count": null,
   "id": "bac22032-7805-4f4b-8c0a-35c53241a764",
   "metadata": {},
   "outputs": [],
   "source": [
    "# %reload_ext autoreload\n",
    "# %autoreload 2"
   ]
  },
  {
   "cell_type": "code",
   "execution_count": null,
   "id": "a3e773d1-6574-43ee-8e98-3096f35c751b",
   "metadata": {},
   "outputs": [],
   "source": [
    "# from tklearn.kb.loader import KnowledgeLoaderConfig, AutoKnowledgeLoader\n",
    "\n",
    "# config = KnowledgeLoaderConfig.from_dict({\n",
    "#     \"identifier\": \"conceptnet\",\n",
    "# })\n",
    "\n",
    "# loader = AutoKnowledgeLoader(config)\n",
    "\n",
    "# items = set()\n",
    "\n",
    "# for i, row in enumerate(loader.iterrows()):\n",
    "#     items.add(row[\"start\"][\"@id\"])\n",
    "#     items.add(row[\"end\"][\"@id\"])\n",
    "\n",
    "# print(len(items))"
   ]
  },
  {
   "cell_type": "code",
   "execution_count": null,
   "id": "c22c6fdf-91b5-44bc-ae06-8632ccb2c699",
   "metadata": {},
   "outputs": [],
   "source": [
    "from tklearn.kb import KnowledgeBase\n",
    "\n",
    "kb = KnowledgeBase(\"conceptnet/conceptnet-v5.7.0\")"
   ]
  },
  {
   "cell_type": "code",
   "execution_count": null,
   "id": "83b2375c-d55b-49fc-9e8d-1024fd921de7",
   "metadata": {},
   "outputs": [],
   "source": [
    "kb.index.frozen"
   ]
  },
  {
   "cell_type": "code",
   "execution_count": null,
   "id": "3ee0b972-6353-4657-9212-99e47d2433d4",
   "metadata": {},
   "outputs": [],
   "source": [
    "vocab = kb.get_vocab()"
   ]
  },
  {
   "cell_type": "code",
   "execution_count": null,
   "id": "520a7d45-49af-428a-906c-a2784d44d835",
   "metadata": {},
   "outputs": [],
   "source": [
    "vocab.get_index(\"apple\")"
   ]
  },
  {
   "cell_type": "code",
   "execution_count": null,
   "id": "a05225c6-ac4d-4bc3-b62b-23727aec5df9",
   "metadata": {},
   "outputs": [],
   "source": [
    "from tklearn.preprocessing import KeywordAnnotator"
   ]
  },
  {
   "cell_type": "code",
   "execution_count": null,
   "id": "65126ac7-515d-48af-961d-28bbc52b5af6",
   "metadata": {},
   "outputs": [],
   "source": [
    "annotator = KeywordAnnotator.from_vocab(vocab)"
   ]
  },
  {
   "cell_type": "code",
   "execution_count": null,
   "id": "f028311f-872c-4118-8b79-268213921738",
   "metadata": {},
   "outputs": [],
   "source": [
    "texts = [\n",
    "    \"I love to eat pizza and drink beer.\",\n",
    "    \"I was born in New York.\",\n",
    "    \"I visited Paris last summer.\",\n",
    "    \"I am going to school.\",\n",
    "]"
   ]
  },
  {
   "cell_type": "code",
   "execution_count": null,
   "id": "43edae01-dec4-4a7c-b2cd-84ec0d8aa129",
   "metadata": {},
   "outputs": [],
   "source": [
    "annotations = annotator.annotate(texts)\n",
    "\"\"\"\n",
    "[[{'string': 'I', 'start': 0, 'end': 1, 'matches': ['I   ', 'I']},\n",
    "  {'string': 'I love', 'start': 0, 'end': 6, 'matches': ['i love']},\n",
    "  {'string': 'love', 'start': 2, 'end': 6, 'matches': ['Love']},\n",
    "  {'string': 'to', 'start': 7, 'end': 9, 'matches': ['To']},\n",
    "  {'string': 'eat', 'start': 10, 'end': 13, 'matches': ['EAT']},\n",
    "  {'string': 'eat pizza', 'start': 10, 'end': 19, 'matches': ['eat pizza']},\n",
    "  {'string': 'pizza', 'start': 14, 'end': 19, 'matches': ['Pizza']},\n",
    "  {'string': 'and', 'start': 20, 'end': 23, 'matches': ['And']},\n",
    "  {'string': 'drink', 'start': 24, 'end': 29, 'matches': ['Drink']},\n",
    "  {'string': 'drink beer', 'start': 24, 'end': 34, 'matches': ['drink beer']},\n",
    "  {'string': 'beer', 'start': 30, 'end': 34, 'matches': ['Beer']}],\n",
    " [{'string': 'I', 'start': 0, 'end': 1, 'matches': ['I   ', 'I']},\n",
    "  ...],\n",
    "\"\"\""
   ]
  },
  {
   "cell_type": "code",
   "execution_count": null,
   "id": "4cd65a9b-6ec3-4493-95ea-a71ff5201fbf",
   "metadata": {},
   "outputs": [],
   "source": [
    "# annotations"
   ]
  },
  {
   "cell_type": "code",
   "execution_count": null,
   "id": "deac0d32-ba1a-4987-9c9a-c86dc18e4b17",
   "metadata": {},
   "outputs": [],
   "source": [
    "for text, text_annotations in zip(texts, annotations):\n",
    "    print(text)\n",
    "    for annotation in text_annotations:\n",
    "        for match in annotation[\"matches\"]:\n",
    "            for node in kb.get_node_ids_by_label(match):\n",
    "                print(f\"  {node}\")\n",
    "    print()"
   ]
  },
  {
   "cell_type": "code",
   "execution_count": null,
   "id": "53260d15-2402-4bd0-89ef-d8b01904e403",
   "metadata": {},
   "outputs": [],
   "source": []
  }
 ],
 "metadata": {
  "kernelspec": {
   "display_name": "Python 3 (ipykernel)",
   "language": "python",
   "name": "python3"
  },
  "language_info": {
   "codemirror_mode": {
    "name": "ipython",
    "version": 3
   },
   "file_extension": ".py",
   "mimetype": "text/x-python",
   "name": "python",
   "nbconvert_exporter": "python",
   "pygments_lexer": "ipython3",
   "version": "3.11.5"
  }
 },
 "nbformat": 4,
 "nbformat_minor": 5
}
