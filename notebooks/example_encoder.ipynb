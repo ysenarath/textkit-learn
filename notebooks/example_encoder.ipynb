{
 "cells": [
  {
   "cell_type": "code",
   "execution_count": null,
   "id": "682de684-f076-4554-9bf0-701e82acd25d",
   "metadata": {},
   "outputs": [],
   "source": [
    "from transformers import AutoModel, AutoTokenizer\n",
    "from tklearn.nn.transformers.encoder import AutoEncoder\n",
    "\n",
    "MODEL_NAME_OR_PATH = \"google-bert/bert-base-uncased\"\n",
    "\n",
    "model = AutoEncoder.from_pretrained(MODEL_NAME_OR_PATH)\n",
    "\n",
    "tokenizer = AutoTokenizer.from_pretrained(MODEL_NAME_OR_PATH)\n",
    "\n",
    "\n",
    "def tokenize(text):\n",
    "    return tokenizer(text, return_tensors=\"pt\", padding=\"max_length\", truncation=True)\n",
    "\n",
    "\n",
    "examples = [\n",
    "    \"Hello, my dog is cute\",\n",
    "    \"Hello, my cat is cute\",\n",
    "]\n",
    "\n",
    "\n",
    "inputs = tokenize(examples)\n",
    "\n",
    "outputs = model(**inputs)\n",
    "\n",
    "print(outputs.pooler_output)\n"
   ]
  },
  {
   "cell_type": "code",
   "execution_count": null,
   "id": "33abe4fb-4a96-4f0a-a925-416914a91143",
   "metadata": {},
   "outputs": [],
   "source": []
  }
 ],
 "metadata": {
  "kernelspec": {
   "display_name": "Python 3 (ipykernel)",
   "language": "python",
   "name": "python3"
  },
  "language_info": {
   "codemirror_mode": {
    "name": "ipython",
    "version": 3
   },
   "file_extension": ".py",
   "mimetype": "text/x-python",
   "name": "python",
   "nbconvert_exporter": "python",
   "pygments_lexer": "ipython3",
   "version": "3.11.5"
  }
 },
 "nbformat": 4,
 "nbformat_minor": 5
}
