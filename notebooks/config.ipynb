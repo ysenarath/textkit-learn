{
 "cells": [
  {
   "cell_type": "code",
   "execution_count": 1,
   "id": "bb09dd5b-878e-4c85-b783-a4690194c698",
   "metadata": {},
   "outputs": [],
   "source": [
    "from functools import partial\n",
    "\n",
    "from tklearn.utils.resources import resources\n",
    "from tklearn.utils.logging import get_logger\n",
    "\n",
    "from tklearn.config import config\n",
    "\n",
    "logger = get_logger('notebook')"
   ]
  },
  {
   "cell_type": "code",
   "execution_count": 2,
   "id": "de630ec5-5847-47e0-8eb2-64d353e9b8bd",
   "metadata": {},
   "outputs": [
    {
     "data": {
      "text/plain": [
       "functools.partial(<class 'str'>)"
      ]
     },
     "execution_count": 2,
     "metadata": {},
     "output_type": "execute_result"
    }
   ],
   "source": [
    "partial(str)"
   ]
  },
  {
   "cell_type": "code",
   "execution_count": 3,
   "id": "609a2f68-d557-4aa2-96c6-5af1d2859c98",
   "metadata": {},
   "outputs": [],
   "source": [
    "config.update({'resource': {'path': {'$type': 'str', 'object': '/Users/yasas/.tklearn'}}})"
   ]
  },
  {
   "cell_type": "code",
   "execution_count": 4,
   "id": "8492615b-8b88-47a8-93dc-847df2efe7af",
   "metadata": {},
   "outputs": [
    {
     "data": {
      "text/plain": [
       "{'resource': {'path': '/Users/yasas/.tklearn'},\n",
       " 'logging': {'level': 'DEBUG',\n",
       "  'stream_handler': {'level': 'DEBUG',\n",
       "   'fmt': '[%(asctime)s] %(levelname)s %(name)s: %(message)s',\n",
       "   'datefmt': '%Y-%m-%d %H:%M:%S'}}}"
      ]
     },
     "execution_count": 4,
     "metadata": {},
     "output_type": "execute_result"
    }
   ],
   "source": [
    "config.to_dict()"
   ]
  },
  {
   "cell_type": "code",
   "execution_count": 5,
   "id": "bdc2e904-5d5f-40fd-86d4-176fddac820b",
   "metadata": {},
   "outputs": [
    {
     "name": "stderr",
     "output_type": "stream",
     "text": [
      "[2023-10-15 23:43:10] INFO notebook: this is info\n"
     ]
    }
   ],
   "source": [
    "logger.info('this is info')"
   ]
  },
  {
   "cell_type": "code",
   "execution_count": 6,
   "id": "b98b2ec5-0bf6-46e8-97bd-f1711a61c6f3",
   "metadata": {},
   "outputs": [
    {
     "data": {
      "text/plain": [
       "'/Users/yasas/.tklearn'"
      ]
     },
     "execution_count": 6,
     "metadata": {},
     "output_type": "execute_result"
    }
   ],
   "source": [
    "config.resource.path"
   ]
  },
  {
   "cell_type": "code",
   "execution_count": null,
   "id": "d7141fc0-62af-4e53-962a-27540a401351",
   "metadata": {},
   "outputs": [],
   "source": []
  },
  {
   "cell_type": "code",
   "execution_count": null,
   "id": "78179904-0fd6-48a0-bfa0-48edb92bb558",
   "metadata": {},
   "outputs": [],
   "source": []
  }
 ],
 "metadata": {
  "kernelspec": {
   "display_name": "Python 3 (ipykernel)",
   "language": "python",
   "name": "python3"
  },
  "language_info": {
   "codemirror_mode": {
    "name": "ipython",
    "version": 3
   },
   "file_extension": ".py",
   "mimetype": "text/x-python",
   "name": "python",
   "nbconvert_exporter": "python",
   "pygments_lexer": "ipython3",
   "version": "3.11.5"
  }
 },
 "nbformat": 4,
 "nbformat_minor": 5
}
