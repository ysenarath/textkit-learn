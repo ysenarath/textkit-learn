{
 "cells": [
  {
   "cell_type": "code",
   "execution_count": null,
   "id": "5ccb5116-2822-4ccf-85a8-603943dcedc3",
   "metadata": {},
   "outputs": [],
   "source": [
    "from tklearn.kb.conceptnet import ConceptNetIO"
   ]
  },
  {
   "cell_type": "code",
   "execution_count": null,
   "id": "6b65a0a8-3200-41f7-a1d0-ee7bdda67e80",
   "metadata": {},
   "outputs": [],
   "source": [
    "conceptnet_loader = ConceptNetIO()"
   ]
  },
  {
   "cell_type": "code",
   "execution_count": null,
   "id": "b0881c66-9ba0-4de3-a8b9-6135614a113f",
   "metadata": {},
   "outputs": [],
   "source": [
    "conceptnet_loader.download()"
   ]
  },
  {
   "cell_type": "code",
   "execution_count": null,
   "id": "59d18ede-d672-4d46-9abc-196dad4ae056",
   "metadata": {},
   "outputs": [],
   "source": [
    "memory = {}\n",
    "\n",
    "for item in conceptnet_loader.load(verbose=True):\n",
    "    Edge.from_dict(item, memory=memory)"
   ]
  },
  {
   "cell_type": "code",
   "execution_count": null,
   "id": "9a09e020-0643-410d-bcc4-7c0c15e5ffc8",
   "metadata": {},
   "outputs": [],
   "source": [
    "from tqdm import auto as tqdm\n",
    "\n",
    "from flashtext import KeywordProcessor"
   ]
  },
  {
   "cell_type": "code",
   "execution_count": null,
   "id": "5d0c0444-9b87-48e1-9a20-6d14e1994c6f",
   "metadata": {},
   "outputs": [],
   "source": [
    "kp = KeywordProcessor(case_sensitive=False)\n",
    "label_to_ids = {}\n",
    "\n",
    "for key, value in tqdm.tqdm(memory.items()):\n",
    "    if not isinstance(value, Node):\n",
    "        continue\n",
    "    label_to_ids.setdefault(value.label, set()).add(value.id)\n",
    "    kp.add_keyword(value.label)"
   ]
  },
  {
   "cell_type": "code",
   "execution_count": null,
   "id": "ac8736ec-27b0-4569-828b-d80ee1deddc5",
   "metadata": {},
   "outputs": [],
   "source": [
    "text = \"new york is a city in USA\"\n",
    "\n",
    "for token, start, end in kp.extract_keywords(text, span_info=True):\n",
    "    node_ids = label_to_ids[token]\n",
    "    print([memory[f\"Node:{n}\"] for n in node_ids], token, start, end)"
   ]
  },
  {
   "cell_type": "code",
   "execution_count": null,
   "id": "fa522046-a89f-49f9-887e-12765cb1123e",
   "metadata": {},
   "outputs": [],
   "source": [
    "from tklearn.kb import KnowledgeGraphConfig, AutoKnowledgeGraph"
   ]
  },
  {
   "cell_type": "code",
   "execution_count": null,
   "id": "3774f7b1-8df6-4808-b20e-b82c6a503b0d",
   "metadata": {},
   "outputs": [],
   "source": [
    "from tklearn.kb import KnowledgeGraphConfig, AutoKnowledgeGraph\n",
    "\n",
    "config = KnowledgeGraphConfig.from_dict({\n",
    "    \"identifier\": \"conceptnet\",\n",
    "})\n",
    "\n",
    "kg = AutoKnowledgeGraph(config)"
   ]
  },
  {
   "cell_type": "code",
   "execution_count": null,
   "id": "f60ea5ad-31e5-446d-a4ac-dc4168d16a89",
   "metadata": {},
   "outputs": [],
   "source": [
    "import pickle\n",
    "\n",
    "conceptnet_objects = None\n",
    "\n",
    "try:\n",
    "    with open(\"conceptnet.pkl\", \"rb\") as f:\n",
    "        conceptnet_objects = pickle.load(f)\n",
    "except FileNotFoundError:\n",
    "    pass\n",
    "\n",
    "if conceptnet_objects is None:\n",
    "    items = kg.values()\n",
    "    with open(\"conceptnet.pkl\", \"wb\") as f:\n",
    "        pickle.dump(items, f)\n",
    "    conceptnet_objects = items"
   ]
  },
  {
   "cell_type": "code",
   "execution_count": null,
   "id": "4f745d6f-432d-42eb-9338-d414d7381ac2",
   "metadata": {},
   "outputs": [],
   "source": [
    "len(conceptnet_objects)"
   ]
  },
  {
   "cell_type": "code",
   "execution_count": null,
   "id": "f34dbf26-4bae-4828-87f6-58bf285433cf",
   "metadata": {},
   "outputs": [],
   "source": [
    "from tqdm import auto as tqdm\n",
    "\n",
    "for x in tqdm.tqdm(conceptnet_objects):\n",
    "    pass\n"
   ]
  },
  {
   "cell_type": "code",
   "execution_count": null,
   "id": "91cc4124-3f27-4606-9813-88596e3655f2",
   "metadata": {},
   "outputs": [],
   "source": [
    "import pickle\n",
    "\n",
    "with open(\"conceptnet.pkl\", \"rb\") as f:\n",
    "    knowledge_graph = pickle.load(f)"
   ]
  },
  {
   "cell_type": "code",
   "execution_count": null,
   "id": "dc866cec-2329-43bc-8576-775ac2e9a431",
   "metadata": {},
   "outputs": [],
   "source": [
    "%reload_ext autoreload\n",
    "%autoreload 2"
   ]
  },
  {
   "cell_type": "code",
   "execution_count": null,
   "id": "d11275b0-450f-4dbc-b348-859aabbc2e46",
   "metadata": {},
   "outputs": [],
   "source": [
    "from tklearn.kb import KnowledgeGraphConfig, AutoKnowledgeGraph\n",
    "\n",
    "config = KnowledgeGraphConfig.from_dict({\n",
    "    \"identifier\": \"conceptnet\",\n",
    "})\n",
    "\n",
    "kg = AutoKnowledgeGraph(config)\n",
    "\n",
    "kg.uri"
   ]
  },
  {
   "cell_type": "code",
   "execution_count": null,
   "id": "ca6bfa0c-e743-4b60-97f3-91f69bd822b8",
   "metadata": {},
   "outputs": [],
   "source": [
    "kg.cleanup()"
   ]
  },
  {
   "cell_type": "code",
   "execution_count": null,
   "id": "f09b6a06-700d-43e3-84d9-ceeb53931fd0",
   "metadata": {},
   "outputs": [],
   "source": [
    "# from typing import List, Any\n",
    "# from tqdm import auto as tqdm\n",
    "\n",
    "# def extend(items: List[Any]) -> None:\n",
    "#     self = kg\n",
    "#     kg.cleanup()\n",
    "#     self.open()\n",
    "#     for item in tqdm.tqdm(items, desc=\"Extending graph\"):\n",
    "#         if not hasattr(item, \"to_triples\"):\n",
    "#             raise ValueError(\n",
    "#                 f\"can only extend with items that have a to_triples method, got '{type(item).__name__}'\"\n",
    "#             )\n",
    "#         for triple in item.to_triples():\n",
    "#             self.graph.add(triple)\n",
    "#     self.graph.commit()\n",
    "#     self.close()"
   ]
  },
  {
   "cell_type": "code",
   "execution_count": null,
   "id": "ee6e3e6d-6d38-4894-b54e-7d0c88685049",
   "metadata": {},
   "outputs": [],
   "source": [
    "kg.extend(knowledge_graph)"
   ]
  },
  {
   "cell_type": "code",
   "execution_count": null,
   "id": "07bf352e-1a25-4c42-8e5b-c6ec316acae5",
   "metadata": {},
   "outputs": [],
   "source": [
    "help(kg.extend)"
   ]
  },
  {
   "cell_type": "code",
   "execution_count": null,
   "id": "54bbd841-531b-43f1-a239-741dc21df783",
   "metadata": {},
   "outputs": [],
   "source": []
  },
  {
   "cell_type": "code",
   "execution_count": null,
   "id": "ec08357c-bab6-4eb2-adc3-d110051a46c9",
   "metadata": {},
   "outputs": [],
   "source": []
  }
 ],
 "metadata": {
  "kernelspec": {
   "display_name": "Python 3 (ipykernel)",
   "language": "python",
   "name": "python3"
  },
  "language_info": {
   "codemirror_mode": {
    "name": "ipython",
    "version": 3
   },
   "file_extension": ".py",
   "mimetype": "text/x-python",
   "name": "python",
   "nbconvert_exporter": "python",
   "pygments_lexer": "ipython3",
   "version": "3.11.5"
  }
 },
 "nbformat": 4,
 "nbformat_minor": 5
}
