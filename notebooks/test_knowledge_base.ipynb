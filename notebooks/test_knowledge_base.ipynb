{
 "cells": [
  {
   "cell_type": "code",
   "execution_count": null,
   "id": "19f99365-578f-43ec-a14b-efcc0f95bee4",
   "metadata": {},
   "outputs": [],
   "source": [
    "import plyvel"
   ]
  },
  {
   "cell_type": "code",
   "execution_count": null,
   "id": "c2b30cd5-5328-4d76-b654-4e1ad900bade",
   "metadata": {},
   "outputs": [],
   "source": [
    "db = plyvel.DB('./testdb/', create_if_missing=True)"
   ]
  },
  {
   "cell_type": "code",
   "execution_count": null,
   "id": "806bceca-abdd-4a69-ad17-8f0c6279da81",
   "metadata": {},
   "outputs": [],
   "source": [
    "db.put(b'key', b'value')\n",
    "db.put(b'another-key', b'another-value')"
   ]
  },
  {
   "cell_type": "code",
   "execution_count": null,
   "id": "e53a60d2-7e52-428e-ada6-ae8de82e29bf",
   "metadata": {},
   "outputs": [],
   "source": [
    "db.get(b'key')"
   ]
  },
  {
   "cell_type": "code",
   "execution_count": null,
   "id": "c1a67aef-07d1-432a-800b-88d9e0dba1e3",
   "metadata": {},
   "outputs": [],
   "source": [
    "del db"
   ]
  },
  {
   "cell_type": "code",
   "execution_count": null,
   "id": "f06819e6-8564-4b94-97e4-8335b36fb5a9",
   "metadata": {},
   "outputs": [],
   "source": []
  }
 ],
 "metadata": {
  "kernelspec": {
   "display_name": "Python 3 (ipykernel)",
   "language": "python",
   "name": "python3"
  },
  "language_info": {
   "codemirror_mode": {
    "name": "ipython",
    "version": 3
   },
   "file_extension": ".py",
   "mimetype": "text/x-python",
   "name": "python",
   "nbconvert_exporter": "python",
   "pygments_lexer": "ipython3",
   "version": "3.11.5"
  }
 },
 "nbformat": 4,
 "nbformat_minor": 5
}
