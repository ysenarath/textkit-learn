{
 "cells": [
  {
   "cell_type": "code",
   "execution_count": null,
   "id": "30d1b559-36bb-4f7f-904a-e901c73616b1",
   "metadata": {},
   "outputs": [],
   "source": [
    "from datasets import load_dataset\n",
    "\n",
    "dataset = load_dataset(\"yelp_review_full\")\n",
    "dataset[\"train\"][100]"
   ]
  },
  {
   "cell_type": "code",
   "execution_count": null,
   "id": "73f8d28c-9c23-4443-9393-f4b9143d1573",
   "metadata": {},
   "outputs": [],
   "source": [
    "from transformers import AutoTokenizer\n",
    "\n",
    "tokenizer = AutoTokenizer.from_pretrained(\"google-bert/bert-base-uncased\")\n",
    "\n",
    "\n",
    "def tokenize_function(examples):\n",
    "    return tokenizer(examples[\"text\"], padding=\"max_length\", truncation=True)\n",
    "\n",
    "\n",
    "tokenized_datasets = dataset.map(tokenize_function, batched=True)"
   ]
  },
  {
   "cell_type": "code",
   "execution_count": null,
   "id": "93e705e8-94f3-43df-b647-929c477f0fbd",
   "metadata": {},
   "outputs": [],
   "source": [
    "small_train_dataset = (\n",
    "    tokenized_datasets[\"train\"].shuffle(seed=42).select(range(1000))\n",
    ")\n",
    "small_eval_dataset = (\n",
    "    tokenized_datasets[\"test\"].shuffle(seed=42).select(range(1000))\n",
    ")"
   ]
  },
  {
   "cell_type": "code",
   "execution_count": null,
   "id": "c35f01d8-036b-42d0-8859-fd1514316cfa",
   "metadata": {},
   "outputs": [],
   "source": [
    "import adapters\n",
    "from transformers import AutoModelForSequenceClassification\n",
    "\n",
    "model = AutoModelForSequenceClassification.from_pretrained(\n",
    "    \"google-bert/bert-base-uncased\", num_labels=5\n",
    ")\n",
    "\n",
    "adapters.init(model)\n",
    "\n",
    "# model.add_adapter(\"my_lora_adapter\", config=\"lora\")\n",
    "# model.train_adapter(\"my_lora_adapter\")\n",
    "\n",
    "from adapters import BnConfig\n",
    "\n",
    "config = BnConfig(\n",
    "    mh_adapter=True,\n",
    "    output_adapter=True,\n",
    "    reduction_factor=16,\n",
    "    non_linearity=\"relu\",\n",
    ")\n",
    "model.add_adapter(\"bottleneck_adapter\", config=config)\n",
    "\n",
    "model.train_adapter(\"bottleneck_adapter\")"
   ]
  },
  {
   "cell_type": "code",
   "execution_count": null,
   "id": "3d353070-5751-40c2-9c59-7e9987bac1ed",
   "metadata": {},
   "outputs": [],
   "source": [
    "model"
   ]
  },
  {
   "cell_type": "code",
   "execution_count": null,
   "id": "134f7dff-46b3-4a76-bbb2-9a9d7c732738",
   "metadata": {},
   "outputs": [],
   "source": [
    "\"bottleneck_adapter\" in model.active_adapters"
   ]
  },
  {
   "cell_type": "code",
   "execution_count": null,
   "id": "a5f8f8b3-b3db-4206-ad07-1accc65f8edb",
   "metadata": {},
   "outputs": [],
   "source": [
    "# model.freeze_model(False)"
   ]
  },
  {
   "cell_type": "code",
   "execution_count": null,
   "id": "c9cdbf28-4469-41f9-950b-668d2067b707",
   "metadata": {},
   "outputs": [],
   "source": [
    "# from transformers import TrainingArguments\n",
    "\n",
    "# training_args = TrainingArguments(output_dir=None)"
   ]
  },
  {
   "cell_type": "code",
   "execution_count": null,
   "id": "e5a29dea-0625-4f3b-9b61-ea3e9f3ee33e",
   "metadata": {},
   "outputs": [],
   "source": [
    "import numpy as np\n",
    "import evaluate\n",
    "\n",
    "metric = evaluate.load(\"accuracy\")"
   ]
  },
  {
   "cell_type": "code",
   "execution_count": null,
   "id": "b076830e-604e-48af-86e0-7f566ffae14d",
   "metadata": {},
   "outputs": [],
   "source": [
    "def compute_metrics(eval_pred):\n",
    "    logits, labels = eval_pred\n",
    "    predictions = np.argmax(logits, axis=-1)\n",
    "    return metric.compute(predictions=predictions, references=labels)"
   ]
  },
  {
   "cell_type": "code",
   "execution_count": null,
   "id": "0606a679-344c-44e1-9986-85b9b4c66130",
   "metadata": {},
   "outputs": [],
   "source": [
    "from transformers import TrainingArguments, Trainer\n",
    "\n",
    "# training_args = TrainingArguments(output_dir=\"test_trainer\", eval_strategy=\"epoch\")\n",
    "training_args = TrainingArguments(output_dir=\"./outputs\")\n",
    "# evaluation_strategy"
   ]
  },
  {
   "cell_type": "code",
   "execution_count": null,
   "id": "021c2f59-452a-40fc-85fe-05283d061eeb",
   "metadata": {},
   "outputs": [],
   "source": [
    "trainer = Trainer(\n",
    "    model=model,\n",
    "    args=training_args,\n",
    "    train_dataset=small_train_dataset,\n",
    "    eval_dataset=small_eval_dataset,\n",
    "    compute_metrics=compute_metrics,\n",
    ")"
   ]
  },
  {
   "cell_type": "code",
   "execution_count": null,
   "id": "df4e45ff-3351-4f6b-9844-9aa92f55e349",
   "metadata": {},
   "outputs": [],
   "source": [
    "trainer.train()"
   ]
  },
  {
   "cell_type": "code",
   "execution_count": null,
   "id": "f4a7599f-4172-4364-956d-89b829455dbf",
   "metadata": {},
   "outputs": [],
   "source": []
  }
 ],
 "metadata": {
  "kernelspec": {
   "display_name": "venv",
   "language": "python",
   "name": "python3"
  },
  "language_info": {
   "codemirror_mode": {
    "name": "ipython",
    "version": 3
   },
   "file_extension": ".py",
   "mimetype": "text/x-python",
   "name": "python",
   "nbconvert_exporter": "python",
   "pygments_lexer": "ipython3",
   "version": "3.11.5"
  }
 },
 "nbformat": 4,
 "nbformat_minor": 5
}
