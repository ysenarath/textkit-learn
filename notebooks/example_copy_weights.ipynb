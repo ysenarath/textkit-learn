{
 "cells": [
  {
   "cell_type": "code",
   "execution_count": null,
   "id": "90f4be6d-d22d-41a3-9197-d9903ed8be35",
   "metadata": {},
   "outputs": [],
   "source": [
    "# %load_ext autoreload\n",
    "# %autoreload 2"
   ]
  },
  {
   "cell_type": "code",
   "execution_count": null,
   "id": "ae89f5fa-9fb2-4cd6-a74c-a350297f93b9",
   "metadata": {},
   "outputs": [],
   "source": [
    "import torch\n",
    "from torch.optim import AdamW\n",
    "from torch.utils.data import DataLoader\n",
    "\n",
    "from transformers import AutoTokenizer\n",
    "from datasets import load_dataset\n",
    "\n",
    "from tklearn.metrics import Accuracy\n",
    "from tklearn.nn import Trainer, Evaluator\n",
    "from tklearn.nn.callbacks import ProgbarLogger, EarlyStopping\n",
    "from tklearn.nn.transformers import TransformerForSequenceClassification"
   ]
  },
  {
   "cell_type": "code",
   "execution_count": null,
   "id": "85c9740a-eca6-4a17-b937-4c24d9975982",
   "metadata": {},
   "outputs": [],
   "source": [
    "MODEL_NAME_OR_PATH = \"google-bert/bert-base-uncased\""
   ]
  },
  {
   "cell_type": "code",
   "execution_count": null,
   "id": "f8478beb-f629-4868-82bf-48241d09c465",
   "metadata": {},
   "outputs": [],
   "source": [
    "model = TransformerForSequenceClassification(MODEL_NAME_OR_PATH, num_labels=2)"
   ]
  },
  {
   "cell_type": "code",
   "execution_count": null,
   "id": "0ba72734-3695-4232-bcdd-88843cc14c9e",
   "metadata": {},
   "outputs": [],
   "source": [
    "# with torch.no_grad():\n",
    "#     model.classifier.output.weight.zero_()\n",
    "\n",
    "model.classifier.output.weight"
   ]
  },
  {
   "cell_type": "code",
   "execution_count": null,
   "id": "e922eed6-e0a6-4245-81ec-e4ff11612249",
   "metadata": {},
   "outputs": [],
   "source": [
    "model.set_num_labels(5)"
   ]
  },
  {
   "cell_type": "code",
   "execution_count": null,
   "id": "d43e74fa-4fac-43b5-8a1e-ffa46ed43e3a",
   "metadata": {},
   "outputs": [],
   "source": [
    "model.classifier.output.weight"
   ]
  },
  {
   "cell_type": "code",
   "execution_count": null,
   "id": "2b9967e5-6943-41b8-9719-52619167756b",
   "metadata": {},
   "outputs": [],
   "source": []
  }
 ],
 "metadata": {
  "kernelspec": {
   "display_name": "Python 3 (ipykernel)",
   "language": "python",
   "name": "python3"
  },
  "language_info": {
   "codemirror_mode": {
    "name": "ipython",
    "version": 3
   },
   "file_extension": ".py",
   "mimetype": "text/x-python",
   "name": "python",
   "nbconvert_exporter": "python",
   "pygments_lexer": "ipython3",
   "version": "3.11.5"
  }
 },
 "nbformat": 4,
 "nbformat_minor": 5
}
