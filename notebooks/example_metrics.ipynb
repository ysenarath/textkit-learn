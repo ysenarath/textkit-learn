{
 "cells": [
  {
   "cell_type": "code",
   "execution_count": null,
   "id": "9760a7bd-1ee7-4311-a395-a316225f818c",
   "metadata": {},
   "outputs": [],
   "source": [
    "from tklearn.metrics import Accuracy, MetricState"
   ]
  },
  {
   "cell_type": "code",
   "execution_count": null,
   "id": "d7bae47b-12a3-4231-a8e6-0ee5cfa77e01",
   "metadata": {},
   "outputs": [],
   "source": [
    "accuracy_score = Accuracy()"
   ]
  },
  {
   "cell_type": "code",
   "execution_count": null,
   "id": "0933df40-3e64-4a9c-9d9d-8aee37b70b99",
   "metadata": {},
   "outputs": [],
   "source": [
    "accuracy_score(y_true=[1, 0], y_pred=[1, 0])"
   ]
  },
  {
   "cell_type": "code",
   "execution_count": null,
   "id": "2906ad2f-7803-42da-ba3a-551a38c9e25c",
   "metadata": {},
   "outputs": [],
   "source": [
    "accuracy_score(y_true=[1, 0, 0, 1], y_pred=[1, 0, 0, 0])"
   ]
  },
  {
   "cell_type": "code",
   "execution_count": null,
   "id": "283397bb-9665-4631-93dc-38afd2d4b6c6",
   "metadata": {},
   "outputs": [],
   "source": [
    "try:\n",
    "    accuracy_score(y_true=[1, 0, 0, 1], y_score=[1, 0, 0, 0])\n",
    "except ValueError as ex:\n",
    "    print(ex)"
   ]
  },
  {
   "cell_type": "code",
   "execution_count": null,
   "id": "0b4ca67b-b9c7-4e9c-bcf0-0f1dd46c469f",
   "metadata": {},
   "outputs": [],
   "source": [
    "metrics = MetricState({\"accuracy\": accuracy_score})"
   ]
  },
  {
   "cell_type": "code",
   "execution_count": null,
   "id": "160ca4eb-97de-41b1-af83-f451ca090a3c",
   "metadata": {},
   "outputs": [],
   "source": [
    "metrics.update(y_true=[1, 0, 0, 1], y_pred=[1, 0, 0, 0])"
   ]
  },
  {
   "cell_type": "code",
   "execution_count": null,
   "id": "e9df0daf-0014-4ee1-a272-3d1caf89244c",
   "metadata": {},
   "outputs": [],
   "source": [
    "metrics.result()"
   ]
  },
  {
   "cell_type": "code",
   "execution_count": null,
   "id": "75e3d5bc-92e5-4e19-89c0-4787e965760c",
   "metadata": {},
   "outputs": [],
   "source": [
    "import torch\n",
    "from tklearn.metrics import y_true_accum, y_pred_accum, MetricState\n",
    "\n",
    "# Simulate some data\n",
    "y_true = torch.tensor([1, 0, 1, 1])\n",
    "y_pred = torch.tensor([0.9, 0.1, 0.8, 0.7])\n",
    "\n",
    "metrics = MetricState([y_true_accum, y_pred_accum])\n",
    "\n",
    "metrics.update(y_true=y_true, y_pred=y_pred)\n",
    "metrics.update(y_true=y_true, y_pred=y_pred)\n",
    "\n",
    "\n",
    "# Check the results\n",
    "print(f\"Steps: {metrics.result()}\")\n",
    "\n",
    "# Reset\n",
    "metrics.reset()"
   ]
  },
  {
   "cell_type": "code",
   "execution_count": null,
   "id": "4e661c8b-4076-47c9-9a2e-1056f5c8bc9b",
   "metadata": {},
   "outputs": [],
   "source": []
  }
 ],
 "metadata": {
  "kernelspec": {
   "display_name": "Python 3 (ipykernel)",
   "language": "python",
   "name": "python3"
  },
  "language_info": {
   "codemirror_mode": {
    "name": "ipython",
    "version": 3
   },
   "file_extension": ".py",
   "mimetype": "text/x-python",
   "name": "python",
   "nbconvert_exporter": "python",
   "pygments_lexer": "ipython3",
   "version": "3.11.5"
  }
 },
 "nbformat": 4,
 "nbformat_minor": 5
}
