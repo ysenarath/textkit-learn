{
 "cells": [
  {
   "cell_type": "code",
   "execution_count": null,
   "metadata": {
    "vscode": {
     "languageId": "plaintext"
    }
   },
   "outputs": [],
   "source": [
    "from datasets import load_dataset\n",
    "from torch.optim import AdamW\n",
    "from torch.utils.data import DataLoader\n",
    "from transformers import AutoTokenizer\n",
    "\n",
    "from tklearn.metrics import Accuracy\n",
    "from tklearn.nn import Evaluator, Trainer\n",
    "from tklearn.nn.callbacks import EarlyStopping, ProgbarLogger\n",
    "from tklearn.nn.models import AutoModel, ModelConfig\n",
    "\n",
    "MODEL_NAME_OR_PATH = \"google-bert/bert-base-uncased\"\n",
    "DATASET = \"yelp_review_full\"\n",
    "NUM_EPOCHS = 3"
   ]
  },
  {
   "cell_type": "code",
   "execution_count": null,
   "metadata": {
    "vscode": {
     "languageId": "plaintext"
    }
   },
   "outputs": [],
   "source": [
    "dataset = load_dataset(DATASET)\n",
    "tokenizer = AutoTokenizer.from_pretrained(MODEL_NAME_OR_PATH)"
   ]
  },
  {
   "cell_type": "code",
   "execution_count": null,
   "metadata": {
    "vscode": {
     "languageId": "plaintext"
    }
   },
   "outputs": [],
   "source": [
    "def tokenize_function(examples):\n",
    "    return tokenizer(examples[\"text\"], padding=\"max_length\", truncation=True)\n",
    "\n",
    "\n",
    "tokenized_datasets = dataset.map(tokenize_function, batched=True)\n",
    "tokenized_datasets = tokenized_datasets.rename_column(\"label\", \"labels\")\n",
    "tokenized_datasets.set_format(\"torch\")"
   ]
  },
  {
   "cell_type": "code",
   "execution_count": null,
   "metadata": {
    "vscode": {
     "languageId": "plaintext"
    }
   },
   "outputs": [],
   "source": [
    "small_train_dataset = (\n",
    "    tokenized_datasets[\"train\"].shuffle(seed=42).select(range(1000))\n",
    ")\n",
    "small_eval_dataset = (\n",
    "    tokenized_datasets[\"test\"].shuffle(seed=42).select(range(1000))\n",
    ")\n",
    "train_dataloader = DataLoader(small_train_dataset, shuffle=True, batch_size=16)\n",
    "valid_dataloader = DataLoader(small_eval_dataset, batch_size=32)"
   ]
  },
  {
   "cell_type": "code",
   "execution_count": null,
   "metadata": {
    "vscode": {
     "languageId": "plaintext"
    }
   },
   "outputs": [],
   "source": [
    "model_config = ModelConfig.from_dict(dict(\n",
    "    type=\"linear\",\n",
    "    backbone=dict(\n",
    "        type=\"transformer\",\n",
    "        model_name_or_path=MODEL_NAME_OR_PATH,\n",
    "    ),\n",
    "    num_labels=5,\n",
    "))\n",
    "model = AutoModel(model_config)"
   ]
  },
  {
   "cell_type": "code",
   "execution_count": null,
   "metadata": {
    "vscode": {
     "languageId": "plaintext"
    }
   },
   "outputs": [],
   "source": [
    "optimizer = BERTAdamW(\n",
    "    model.parameters(),\n",
    "    lr=2e-6,\n",
    "    warmup=0.1,\n",
    "    t_total=len(train_dataloader) * NUM_EPOCHS,\n",
    ")\n",
    "\n",
    "evaluator = Evaluator(\n",
    "    model,\n",
    "    valid_dataloader,\n",
    "    callbacks=[ProgbarLogger()],\n",
    "    metrics={\"acuracy\": Accuracy()},\n",
    "    prefix=\"valid_\",\n",
    ")\n",
    "\n",
    "trainer = Trainer(\n",
    "    model,\n",
    "    train_dataloader,\n",
    "    optimizer=optimizer,\n",
    "    callbacks=[ProgbarLogger(), EarlyStopping(patience=5)],\n",
    "    evaluator=evaluator,\n",
    "    epochs=NUM_EPOCHS,\n",
    ")"
   ]
  },
  {
   "cell_type": "code",
   "execution_count": null,
   "metadata": {
    "vscode": {
     "languageId": "plaintext"
    }
   },
   "outputs": [],
   "source": [
    "trainer.train()"
   ]
  }
 ],
 "metadata": {
  "language_info": {
   "name": "python"
  }
 },
 "nbformat": 4,
 "nbformat_minor": 2
}
