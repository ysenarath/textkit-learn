{
 "cells": [
  {
   "cell_type": "code",
   "execution_count": null,
   "id": "e0513a1b-07d0-4728-b77e-1773beffb3ea",
   "metadata": {},
   "outputs": [],
   "source": [
    "import numpy as np\n",
    "from sklearn.metrics import classification_report, roc_auc_score\n",
    "from sklearn.datasets import load_iris\n",
    "from sklearn.linear_model import LogisticRegression"
   ]
  },
  {
   "cell_type": "code",
   "execution_count": null,
   "id": "eb8022bd-aac2-45c3-81f1-fff2ecfd3765",
   "metadata": {},
   "outputs": [],
   "source": [
    "X, y_true = load_iris(return_X_y=True)\n",
    "\n",
    "clf = LogisticRegression(solver=\"liblinear\").fit(X, y_true)\n",
    "y_score = clf.predict_proba(X)\n",
    "y_pred = np.argmax(y_score, axis=1)\n",
    "\n",
    "roc_auc_score(y_true, y_score, multi_class='ovr')"
   ]
  },
  {
   "cell_type": "code",
   "execution_count": null,
   "id": "50125326-8cfe-4c92-9eaa-04a10f5c1930",
   "metadata": {},
   "outputs": [],
   "source": [
    "classification_report(y_true, y_pred, output_dict=True)"
   ]
  },
  {
   "cell_type": "code",
   "execution_count": null,
   "id": "08f3a517-ae8e-4d68-8330-5561646b469e",
   "metadata": {},
   "outputs": [],
   "source": [
    "from tklearn.metrics import F1Score\n",
    "from tklearn.metrics.classification import OptimalPRThreshold"
   ]
  },
  {
   "cell_type": "code",
   "execution_count": null,
   "id": "927ee110-0b3b-4da8-8c95-3df22cee78ff",
   "metadata": {},
   "outputs": [],
   "source": [
    "f1_score = F1Score(average=\"macro\")"
   ]
  },
  {
   "cell_type": "code",
   "execution_count": null,
   "id": "648c325f-01fb-4f2f-8c37-32a0b996eba2",
   "metadata": {},
   "outputs": [],
   "source": [
    "f1_score(y_true=y_true, y_pred=y_pred)"
   ]
  },
  {
   "cell_type": "code",
   "execution_count": null,
   "id": "b3916cfe-4b97-4e72-af02-c9db326165f3",
   "metadata": {},
   "outputs": [],
   "source": [
    "[OptimalPRThreshold()(y_true=y_true == col, y_score=y_score[:, col]) for col in range(3)]"
   ]
  },
  {
   "cell_type": "code",
   "execution_count": null,
   "id": "e443e6c4-3d6d-4823-aa9e-9380e0ac7348",
   "metadata": {},
   "outputs": [],
   "source": []
  }
 ],
 "metadata": {
  "kernelspec": {
   "display_name": "Python 3 (ipykernel)",
   "language": "python",
   "name": "python3"
  },
  "language_info": {
   "codemirror_mode": {
    "name": "ipython",
    "version": 3
   },
   "file_extension": ".py",
   "mimetype": "text/x-python",
   "name": "python",
   "nbconvert_exporter": "python",
   "pygments_lexer": "ipython3",
   "version": "3.11.5"
  }
 },
 "nbformat": 4,
 "nbformat_minor": 5
}
