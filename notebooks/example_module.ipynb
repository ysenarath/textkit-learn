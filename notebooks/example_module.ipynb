{
 "cells": [
  {
   "cell_type": "code",
   "execution_count": null,
   "id": "a8018789-2696-49c6-b046-28f7e6c79504",
   "metadata": {},
   "outputs": [],
   "source": [
    "import torch\n",
    "from torch.optim import AdamW\n",
    "from datasets import DatasetDict\n",
    "\n",
    "from transformers import AutoTokenizer\n",
    "from tklearn.metrics import Accuracy\n",
    "from tklearn.nn.utils.data import RecordBatch, AugmentedCollator\n",
    "from tklearn.nn.callbacks import ProgbarLogger\n",
    "from tklearn.nn.transformers.classification import TransformerForSequenceClassification"
   ]
  },
  {
   "cell_type": "code",
   "execution_count": null,
   "id": "9de7b82c-e82f-4f18-8915-145a484a921b",
   "metadata": {},
   "outputs": [],
   "source": [
    "class PromptTransformerForSequenceClassification(TransformerForSequenceClassification):\n",
    "    def prepare_metric_inputs(self, batch, output):\n",
    "        print(batch, output)\n",
    "        return super().prepare_metric_inputs(batch, output)"
   ]
  },
  {
   "cell_type": "code",
   "execution_count": null,
   "id": "a5d7eba0-2e4a-4318-89ed-03335f870fa5",
   "metadata": {},
   "outputs": [],
   "source": [
    "model = PromptTransformerForSequenceClassification(\"bert-base-uncased\", num_labels=1, target_type=\"binary\")\n",
    "tokenizer = AutoTokenizer.from_pretrained(\"bert-base-uncased\")"
   ]
  },
  {
   "cell_type": "code",
   "execution_count": null,
   "id": "c842a734-8c1f-4941-afe1-fe6b60264638",
   "metadata": {},
   "outputs": [],
   "source": [
    "import pandas as pd\n",
    "from datasets import load_dataset\n",
    "\n",
    "datasets = load_dataset(\"clinc/clinc_oos\", \"imbalanced\")\n",
    "\n",
    "intent_id2str = datasets[\"train\"].features[\"intent\"].int2str\n",
    "\n",
    "intents = pd.Series(datasets[\"train\"][\"intent\"]).value_counts().sort_index()\n",
    "\n",
    "top_intents = intents[intents == intents.max()][:5]\n",
    "\n",
    "datasets = datasets.filter(lambda x: x[\"intent\"] in top_intents)\n",
    "datasets = datasets.map(lambda x: {**x, \"intent_str\": intent_id2str(x[\"intent\"])})\n",
    "\n",
    "datasets = datasets.remove_columns([\"intent\"])\n",
    "datasets = datasets.rename_column(\"intent_str\", \"intent\")"
   ]
  },
  {
   "cell_type": "code",
   "execution_count": null,
   "id": "a56e85b6-26a3-4b44-a06c-420314d9939f",
   "metadata": {},
   "outputs": [],
   "source": [
    "# datasets[\"train\"][\"intent\"]"
   ]
  },
  {
   "cell_type": "code",
   "execution_count": null,
   "id": "fc9338b4-7e31-496a-9c38-688b8e870778",
   "metadata": {},
   "outputs": [],
   "source": [
    "id2label = top_intents.index.to_series(index=range(len(top_intents))).apply(intent_id2str).to_dict()\n",
    "label2id = {v: k for k, v in id2label.items()}"
   ]
  },
  {
   "cell_type": "code",
   "execution_count": null,
   "id": "cf021eb7-1db9-4702-bd10-ca13a337216f",
   "metadata": {},
   "outputs": [],
   "source": [
    "def augment_data(examples, indices):\n",
    "    prompts, labels, global_indices = [], [], []\n",
    "    for idx, text in enumerate(examples[\"text\"]):\n",
    "        global_index = indices[idx]\n",
    "        act_intent = examples[\"intent\"][idx]\n",
    "        for rand_label in label2id:\n",
    "            prompt = text + f\" {tokenizer.sep_token} \" + rand_label\n",
    "            prompts.append(prompt)\n",
    "            labels.append(act_intent == rand_label)\n",
    "            global_indices.append(global_index)\n",
    "    return {\"index\": torch.tensor(global_indices, dtype=torch.long), \"prompt\": prompts, \"labels\": torch.tensor(labels, dtype=torch.float32)}\n",
    "\n",
    "augmented_ds = DatasetDict({\n",
    "    k: v.map(augment_data, batched=True, remove_columns=v.column_names, batch_size=8, with_indices=True) for k, v in datasets.items()\n",
    "})"
   ]
  },
  {
   "cell_type": "code",
   "execution_count": null,
   "id": "72b14f06-dc37-4184-9788-3f32a69433e6",
   "metadata": {},
   "outputs": [],
   "source": [
    "def format_labels(examples):\n",
    "    tokens = tokenizer(examples[\"prompt\"], return_tensors=\"pt\", padding=\"max_length\", truncation=True)\n",
    "    tokens = {k: v for k, v in tokens.items()} \n",
    "    return tokens\n",
    "\n",
    "\n",
    "augmented_ds = augmented_ds.map(format_labels, batched=True, batch_size=8)\n",
    "\n",
    "augmented_ds.set_format(\"torch\")"
   ]
  },
  {
   "cell_type": "code",
   "execution_count": null,
   "id": "09f3c445-b73d-4b13-9976-d982dcc2b841",
   "metadata": {},
   "outputs": [],
   "source": [
    "augmented_ds"
   ]
  },
  {
   "cell_type": "code",
   "execution_count": null,
   "id": "7272fe69-2f05-46f2-b722-4caab66f3a2e",
   "metadata": {},
   "outputs": [],
   "source": [
    "ds = augmented_ds"
   ]
  },
  {
   "cell_type": "code",
   "execution_count": null,
   "id": "b8c4d192-9245-43fc-863d-6e8335bc077c",
   "metadata": {},
   "outputs": [],
   "source": [
    "model.to(\"mps\")\n",
    "\n",
    "train_data = ds[\"train\"][:100]\n",
    "validation_data = ds[\"validation\"][:10]\n",
    "optimizer = AdamW(model.parameters(), lr=5e-5)\n",
    "metrics = {\"accuracy\": Accuracy()}\n",
    "callbacks = [ProgbarLogger()]\n",
    "\n",
    "model = model.fit(train_data, batch_size=2, optimizer=optimizer, validation_data=validation_data, metrics=metrics, callbacks=callbacks)"
   ]
  },
  {
   "cell_type": "code",
   "execution_count": null,
   "id": "2b70a083-44d0-41ae-96c4-0ad095789e9a",
   "metadata": {},
   "outputs": [],
   "source": [
    "model.evaluate(validation_data)"
   ]
  },
  {
   "cell_type": "code",
   "execution_count": null,
   "id": "100c6e27-b3f4-4e14-a311-daab59ba8be9",
   "metadata": {},
   "outputs": [],
   "source": [
    "# list(model.predict_iter(validation_data, collate_fn=collate_fn))"
   ]
  },
  {
   "cell_type": "code",
   "execution_count": null,
   "id": "c7944758-7f47-4aaf-9b84-b7caffa1c989",
   "metadata": {},
   "outputs": [],
   "source": [
    "# model.eval()\n",
    "\n",
    "# with torch.no_grad():\n",
    "    # output = model.predict_on_batch(batch)\n",
    "    # print(model.extract_eval_input(batch, output))"
   ]
  },
  {
   "cell_type": "code",
   "execution_count": null,
   "id": "12120d7c-2bf4-43f8-b32c-dda61715ebb3",
   "metadata": {},
   "outputs": [],
   "source": [
    "# model.base_model.save_pretrained(\"model\")\n",
    "# !rm -rf model"
   ]
  },
  {
   "cell_type": "code",
   "execution_count": null,
   "id": "d5d3712f-60de-400c-a643-f16f3d8318ef",
   "metadata": {},
   "outputs": [],
   "source": [
    "# list(model.named_parameters())"
   ]
  },
  {
   "cell_type": "code",
   "execution_count": null,
   "id": "8a31dd3f-3c78-47fd-b994-57dafcd63d1d",
   "metadata": {},
   "outputs": [],
   "source": [
    "dict({\"a\": 100}, c=1)"
   ]
  },
  {
   "cell_type": "code",
   "execution_count": null,
   "id": "b7a88133-eed1-4504-b7d5-cbe6aaa2009f",
   "metadata": {},
   "outputs": [],
   "source": []
  }
 ],
 "metadata": {
  "kernelspec": {
   "display_name": "Python 3 (ipykernel)",
   "language": "python",
   "name": "python3"
  },
  "language_info": {
   "codemirror_mode": {
    "name": "ipython",
    "version": 3
   },
   "file_extension": ".py",
   "mimetype": "text/x-python",
   "name": "python",
   "nbconvert_exporter": "python",
   "pygments_lexer": "ipython3",
   "version": "3.11.5"
  }
 },
 "nbformat": 4,
 "nbformat_minor": 5
}
