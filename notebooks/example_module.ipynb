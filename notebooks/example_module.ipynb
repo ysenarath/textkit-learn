{
 "cells": [
  {
   "cell_type": "code",
   "execution_count": null,
   "id": "a8018789-2696-49c6-b046-28f7e6c79504",
   "metadata": {},
   "outputs": [],
   "source": [
    "import torch\n",
    "from torch.optim import AdamW\n",
    "\n",
    "from transformers import AutoTokenizer\n",
    "from tklearn.metrics import Accuracy\n",
    "from tklearn.nn.utils.data import RecordBatch, AugmentedCollator\n",
    "from tklearn.nn.callbacks import ProgbarLogger\n",
    "from tklearn.nn.transformers.classification import TransformerForSequenceClassification"
   ]
  },
  {
   "cell_type": "code",
   "execution_count": null,
   "id": "a5d7eba0-2e4a-4318-89ed-03335f870fa5",
   "metadata": {},
   "outputs": [],
   "source": [
    "model = TransformerForSequenceClassification(\"bert-base-uncased\", num_labels=1, target_type=\"binary\")\n",
    "tokenizer = AutoTokenizer.from_pretrained(\"bert-base-uncased\")"
   ]
  },
  {
   "cell_type": "code",
   "execution_count": null,
   "id": "211bd4fd-618f-4313-a3d0-b57ad25c6d43",
   "metadata": {},
   "outputs": [],
   "source": [
    "# tokens = tokenizer([\"this is an example text\"], return_tensors=\"pt\")\n",
    "\n",
    "# model.output_layer(model.base_model(**tokens).pooler_output)\n",
    "\n",
    "# model.eval()\n",
    "\n",
    "# with torch.no_grad():\n",
    "#     print(model(**tokens).logits)\n",
    "\n",
    "# tokenizer([\n",
    "#     \"this is an example text\", \n",
    "#     \"this is an example text\"\n",
    "# ], return_tensors=\"pt\", padding=\"max_length\", truncation=True)"
   ]
  },
  {
   "cell_type": "code",
   "execution_count": null,
   "id": "c842a734-8c1f-4941-afe1-fe6b60264638",
   "metadata": {},
   "outputs": [],
   "source": [
    "import pandas as pd\n",
    "from datasets import load_dataset\n",
    "\n",
    "ds = load_dataset(\"clinc/clinc_oos\", \"imbalanced\")"
   ]
  },
  {
   "cell_type": "code",
   "execution_count": null,
   "id": "d1342502-0bba-4d97-a9b3-4f06b843f4b3",
   "metadata": {},
   "outputs": [],
   "source": [
    "intent_id2str = ds[\"train\"].features[\"intent\"].int2str\n",
    "\n",
    "intents = pd.Series(ds[\"train\"][\"intent\"]).value_counts().sort_index()\n",
    "\n",
    "top_intents = intents[intents == intents.max()][:5]\n",
    "\n",
    "ds = ds.filter(lambda x: x[\"intent\"] in top_intents)\n",
    "ds = ds.map(lambda x: {**x, \"intent_str\": intent_id2str(x[\"intent\"])})\n",
    "\n",
    "ds"
   ]
  },
  {
   "cell_type": "code",
   "execution_count": null,
   "id": "a56e85b6-26a3-4b44-a06c-420314d9939f",
   "metadata": {},
   "outputs": [],
   "source": [
    "# ds[\"train\"][\"intent_str\"]"
   ]
  },
  {
   "cell_type": "code",
   "execution_count": null,
   "id": "fc9338b4-7e31-496a-9c38-688b8e870778",
   "metadata": {},
   "outputs": [],
   "source": [
    "id2label = top_intents.index.to_series(index=range(len(top_intents))).apply(intent_id2str).to_dict()\n",
    "label2id = {v: k for k, v in id2label.items()}"
   ]
  },
  {
   "cell_type": "code",
   "execution_count": null,
   "id": "6c8bbc06-597c-4d5e-a575-05d29bdd08e7",
   "metadata": {},
   "outputs": [],
   "source": [
    "# import random\n",
    "# random.choice(id2label)"
   ]
  },
  {
   "cell_type": "code",
   "execution_count": null,
   "id": "cf021eb7-1db9-4702-bd10-ca13a337216f",
   "metadata": {},
   "outputs": [],
   "source": [
    "def format_labels(tab):\n",
    "    # rand_label = random.choice(id2label)\n",
    "    # prompt = tab[\"text\"] + f\" {tokenizer.sep_token} \" + rand_label\n",
    "    # tokens = tokenizer(prompt, return_tensors=\"pt\", padding=\"max_length\", truncation=True)\n",
    "    # tokens = {k: v[0] for k, v in tokens.items()}\n",
    "    return {\"text\": tab[\"text\"], \"labels\": label2id[tab[\"intent_str\"]]}\n",
    "\n",
    "ds = ds.map(format_labels)\n",
    "\n",
    "ds.set_format(\"torch\")"
   ]
  },
  {
   "cell_type": "code",
   "execution_count": null,
   "id": "7272fe69-2f05-46f2-b722-4caab66f3a2e",
   "metadata": {},
   "outputs": [],
   "source": [
    "import random\n",
    "\n",
    "help(random.choices)"
   ]
  },
  {
   "cell_type": "code",
   "execution_count": null,
   "id": "e789d7c0-75df-46d9-b7c3-f1a76df4c58e",
   "metadata": {},
   "outputs": [],
   "source": [
    "import random\n",
    "from joblib import Memory\n",
    "\n",
    "class PromptAugmentedTrainingCollator(AugmentedCollator):\n",
    "    def __init__(self, tokenizer, id2label, sep_token=None, k=None):\n",
    "        super().__init__()\n",
    "        if sep_token is None:\n",
    "            if hasattr(tokenizer, \"sep_token\"):\n",
    "                sep_token = tokenizer.sep_token\n",
    "            else:\n",
    "                sep_token = \"[SEP]\"\n",
    "        self.tokenizer = tokenizer\n",
    "        self.sep_token = sep_token\n",
    "        self.id2label = id2label\n",
    "        self.ids = {cls: list(set(id2label) - {cls}) for cls in id2label}\n",
    "        self.k = k\n",
    "\n",
    "    def generate(self, batch: RecordBatch) -> RecordBatch:\n",
    "        prompts = []\n",
    "        labels = []\n",
    "        indexes = []\n",
    "        args = batch.x.pop(\"text\"), batch.x.pop(\"labels\", batch.y), batch.index\n",
    "        for txt, true_lbl, idx in zip(*args):\n",
    "            if isinstance(true_lbl, torch.Tensor):\n",
    "                true_lbl = true_lbl.item()\n",
    "            other_labels = self.ids[true_lbl]\n",
    "            if self.k is not None:\n",
    "                other_labels = random.choices(self.ids[true_lbl], k=self.k)\n",
    "            aug_lbls = [true_lbl] + other_labels\n",
    "            for lbl in aug_lbls:\n",
    "                cls = self.id2label[true_lbl]\n",
    "                prompt = f\"{txt} {self.sep_token} {cls}\"\n",
    "                prompts.append(prompt)\n",
    "                labels.append(true_lbl == lbl)\n",
    "                indexes.append(idx)\n",
    "        tokens = self.tokenizer(\n",
    "            prompts, return_tensors=\"pt\", padding=\"max_length\", truncation=True\n",
    "        )\n",
    "        labels = torch.tensor(labels, dtype=torch.long)\n",
    "        if batch.y:\n",
    "            return RecordBatch(dict(tokens), labels, index=indexes)\n",
    "        return RecordBatch({**tokens, \"labels\": labels}, index=indexes)\n",
    "\n",
    "\n",
    "collate_fn = PromptAugmentedTrainingCollator(tokenizer, id2label=id2label)"
   ]
  },
  {
   "cell_type": "code",
   "execution_count": null,
   "id": "b8c4d192-9245-43fc-863d-6e8335bc077c",
   "metadata": {},
   "outputs": [],
   "source": [
    "model.to(\"mps\")\n",
    "\n",
    "train_data = ds[\"train\"][:100]\n",
    "validation_data = ds[\"validation\"][:10]\n",
    "optimizer = AdamW(model.parameters(), lr=5e-5)\n",
    "metrics = {\"accuracy\": Accuracy()}\n",
    "callbacks = [ProgbarLogger()]\n",
    "\n",
    "model = model.fit(train_data, batch_size=2, optimizer=optimizer, validation_data=validation_data, metrics=metrics, callbacks=callbacks, collate_fn=collate_fn)"
   ]
  },
  {
   "cell_type": "code",
   "execution_count": null,
   "id": "21f5c63b-b73f-44f0-88a3-d7bd2e16c97a",
   "metadata": {},
   "outputs": [],
   "source": [
    "callbacks[0]"
   ]
  },
  {
   "cell_type": "code",
   "execution_count": null,
   "id": "2b70a083-44d0-41ae-96c4-0ad095789e9a",
   "metadata": {},
   "outputs": [],
   "source": [
    "model.evaluate(validation_data)"
   ]
  },
  {
   "cell_type": "code",
   "execution_count": null,
   "id": "100c6e27-b3f4-4e14-a311-daab59ba8be9",
   "metadata": {},
   "outputs": [],
   "source": [
    "list(model.predict_iter(validation_data))"
   ]
  },
  {
   "cell_type": "code",
   "execution_count": null,
   "id": "c7944758-7f47-4aaf-9b84-b7caffa1c989",
   "metadata": {},
   "outputs": [],
   "source": [
    "# model.eval()\n",
    "\n",
    "# with torch.no_grad():\n",
    "    # output = model.predict_on_batch(batch)\n",
    "    # print(model.extract_eval_input(batch, output))"
   ]
  },
  {
   "cell_type": "code",
   "execution_count": null,
   "id": "12120d7c-2bf4-43f8-b32c-dda61715ebb3",
   "metadata": {},
   "outputs": [],
   "source": [
    "# model.base_model.save_pretrained(\"model\")\n",
    "# !rm -rf model"
   ]
  },
  {
   "cell_type": "code",
   "execution_count": null,
   "id": "d5d3712f-60de-400c-a643-f16f3d8318ef",
   "metadata": {},
   "outputs": [],
   "source": [
    "# list(model.named_parameters())"
   ]
  },
  {
   "cell_type": "code",
   "execution_count": null,
   "id": "8a31dd3f-3c78-47fd-b994-57dafcd63d1d",
   "metadata": {},
   "outputs": [],
   "source": [
    "dict({\"a\": 100}, c=1)"
   ]
  },
  {
   "cell_type": "code",
   "execution_count": null,
   "id": "b7a88133-eed1-4504-b7d5-cbe6aaa2009f",
   "metadata": {},
   "outputs": [],
   "source": []
  }
 ],
 "metadata": {
  "kernelspec": {
   "display_name": "Python 3 (ipykernel)",
   "language": "python",
   "name": "python3"
  },
  "language_info": {
   "codemirror_mode": {
    "name": "ipython",
    "version": 3
   },
   "file_extension": ".py",
   "mimetype": "text/x-python",
   "name": "python",
   "nbconvert_exporter": "python",
   "pygments_lexer": "ipython3",
   "version": "3.11.5"
  }
 },
 "nbformat": 4,
 "nbformat_minor": 5
}
