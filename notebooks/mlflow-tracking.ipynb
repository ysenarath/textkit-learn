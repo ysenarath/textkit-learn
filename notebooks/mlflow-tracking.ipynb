{
 "cells": [
  {
   "cell_type": "code",
   "execution_count": 1,
   "id": "66487559-4b90-4afc-b6d3-fa977a20a25a",
   "metadata": {},
   "outputs": [],
   "source": [
    "!rm -rf mlflow\n",
    "!mkdir mlflow"
   ]
  },
  {
   "cell_type": "code",
   "execution_count": 2,
   "id": "2329f40a-0b24-412d-97ec-593fef86cf76",
   "metadata": {},
   "outputs": [
    {
     "name": "stderr",
     "output_type": "stream",
     "text": [
      "/Users/yasas/Documents/Projects/textkit-learn/venv/lib/python3.11/site-packages/pydantic/_internal/_fields.py:128: UserWarning: Field \"model_server_url\" has conflict with protected namespace \"model_\".\n",
      "\n",
      "You may be able to resolve this warning by setting `model_config['protected_namespaces'] = ()`.\n",
      "  warnings.warn(\n",
      "/Users/yasas/Documents/Projects/textkit-learn/venv/lib/python3.11/site-packages/pydantic/_internal/_config.py:317: UserWarning: Valid config keys have changed in V2:\n",
      "* 'schema_extra' has been renamed to 'json_schema_extra'\n",
      "  warnings.warn(message, UserWarning)\n"
     ]
    }
   ],
   "source": [
    "import pandas as pd\n",
    "\n",
    "from tklearn.core.tracking import Experiment, ArtifactType"
   ]
  },
  {
   "cell_type": "code",
   "execution_count": 3,
   "id": "4903915f-e8c8-4ee2-9ac5-0edfde4dd785",
   "metadata": {},
   "outputs": [],
   "source": [
    "expr = Experiment(\n",
    "    tracking_uri='./mlflow',\n",
    ")"
   ]
  },
  {
   "cell_type": "code",
   "execution_count": 4,
   "id": "2c565607-fa9b-4692-ab17-8aa88ae2d87a",
   "metadata": {},
   "outputs": [],
   "source": [
    "run = expr.start_run()"
   ]
  },
  {
   "cell_type": "code",
   "execution_count": 12,
   "id": "a66640f1-3654-43dc-9a00-b6ab61fd99b8",
   "metadata": {},
   "outputs": [],
   "source": [
    "run.log_artifact(pd.DataFrame({'a': [1, 2, 3]}), 'dataset_pred_2.txt', ArtifactType.TEXT)"
   ]
  },
  {
   "cell_type": "code",
   "execution_count": null,
   "id": "a48478ff-fed6-4146-a4ad-49efd3bb4bcd",
   "metadata": {},
   "outputs": [],
   "source": [
    "# !mlflow server --backend-store-uri ./mlflow"
   ]
  }
 ],
 "metadata": {
  "kernelspec": {
   "display_name": "Python 3 (ipykernel)",
   "language": "python",
   "name": "python3"
  },
  "language_info": {
   "codemirror_mode": {
    "name": "ipython",
    "version": 3
   },
   "file_extension": ".py",
   "mimetype": "text/x-python",
   "name": "python",
   "nbconvert_exporter": "python",
   "pygments_lexer": "ipython3",
   "version": "3.11.5"
  }
 },
 "nbformat": 4,
 "nbformat_minor": 5
}
