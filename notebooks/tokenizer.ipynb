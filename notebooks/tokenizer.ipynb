{
 "cells": [
  {
   "cell_type": "code",
   "execution_count": 1,
   "id": "cb4f306b-5ba7-43d5-8d1b-075f3601de49",
   "metadata": {},
   "outputs": [],
   "source": [
    "from tklearn.preprocessing.tokenizer import HuggingFaceTokenizer"
   ]
  },
  {
   "cell_type": "code",
   "execution_count": 2,
   "id": "4826c58b-04d3-4bd7-86d3-1a82f3517fe8",
   "metadata": {},
   "outputs": [],
   "source": [
    "tokenizer = HuggingFaceTokenizer.from_pretrained('bert-base-cased')"
   ]
  },
  {
   "cell_type": "code",
   "execution_count": 3,
   "id": "5358d80a-6902-48ae-bf01-97fc761456bd",
   "metadata": {},
   "outputs": [
    {
     "data": {
      "text/plain": [
       "{'input_ids': [[101, 170, 1142, 1110, 1126, 1859, 7758, 102], [101, 170, 1142, 1110, 1126, 1859, 7758, 123, 102]], 'token_type_ids': [[0, 0, 0, 0, 0, 0, 0, 0], [0, 0, 0, 0, 0, 0, 0, 0, 0]], 'attention_mask': [[1, 1, 1, 1, 1, 1, 1, 1], [1, 1, 1, 1, 1, 1, 1, 1, 1]]}"
      ]
     },
     "execution_count": 3,
     "metadata": {},
     "output_type": "execute_result"
    }
   ],
   "source": [
    "embedding = tokenizer.tokenize(['a this is an example input', 'a this is an example input 2'])\n",
    "\n",
    "embedding"
   ]
  },
  {
   "cell_type": "code",
   "execution_count": 19,
   "id": "fe1a5def-f250-403f-a67e-18138064d57a",
   "metadata": {},
   "outputs": [],
   "source": [
    "annotations = [[{'start': 1, 'end': 19, 'value': 0.25}], [{'start': 10, 'end': 19, 'value': 0.25}]]\n",
    "\n",
    "aligned_labels = tokenizer.get_aligned_labels(embedding, annotations)"
   ]
  },
  {
   "cell_type": "code",
   "execution_count": 21,
   "id": "adc1210d-7b1c-4516-9e2d-902d8b6f0507",
   "metadata": {},
   "outputs": [
    {
     "data": {
      "text/plain": [
       "[[None, None, 0.25, 0.25, 0.25, 0.25, None, None],\n",
       " [None, None, None, None, 0.25, 0.25, None, None, None]]"
      ]
     },
     "execution_count": 21,
     "metadata": {},
     "output_type": "execute_result"
    }
   ],
   "source": [
    "label = None\n",
    "value_col = 'value'\n",
    "\n",
    "[[annotations[i][j][value_col] if j > -1 else None for _, j in aligned_labels[i][label]] for i in range(len(aligned_labels))]"
   ]
  },
  {
   "cell_type": "code",
   "execution_count": null,
   "id": "85d2639e-8575-45fe-ba83-84b7bba79303",
   "metadata": {},
   "outputs": [],
   "source": []
  }
 ],
 "metadata": {
  "kernelspec": {
   "display_name": "Python 3 (ipykernel)",
   "language": "python",
   "name": "python3"
  },
  "language_info": {
   "codemirror_mode": {
    "name": "ipython",
    "version": 3
   },
   "file_extension": ".py",
   "mimetype": "text/x-python",
   "name": "python",
   "nbconvert_exporter": "python",
   "pygments_lexer": "ipython3",
   "version": "3.11.5"
  }
 },
 "nbformat": 4,
 "nbformat_minor": 5
}
