{
 "cells": [
  {
   "cell_type": "code",
   "execution_count": null,
   "id": "113dd4f8-86a4-4cad-8c6f-069ee640024b",
   "metadata": {},
   "outputs": [],
   "source": [
    "cd .."
   ]
  },
  {
   "cell_type": "code",
   "execution_count": null,
   "id": "0999bf68-5e9a-4ce7-bbab-816377ec3f67",
   "metadata": {},
   "outputs": [],
   "source": [
    "# import datasets\n",
    "from transformers import AutoModelForSequenceClassification, AutoTokenizer\n",
    "\n",
    "from tklearn import datasets\n",
    "from tklearn.metrics import TextClassificationMetric\n",
    "from tklearn.nn.trainer import Trainer\n",
    "from tklearn.nn.evaluator import Evaluator\n",
    "from tklearn.nn.callbacks import ProgbarLogger\n",
    "from tklearn.config import config, config_scope"
   ]
  },
  {
   "cell_type": "code",
   "execution_count": null,
   "id": "37818a3a-2046-4eb5-a5df-601a6a067c42",
   "metadata": {},
   "outputs": [],
   "source": [
    "config['emotion/Trainer'] = {\n",
    "    'epochs': 2,\n",
    "}"
   ]
  },
  {
   "cell_type": "code",
   "execution_count": null,
   "id": "8d58a3f5-0ca0-4b70-9eab-0c9ed2efd773",
   "metadata": {},
   "outputs": [],
   "source": [
    "tokenizer = AutoTokenizer.from_pretrained(\"bert-base-uncased\")\n",
    "\n",
    "\n",
    "def tokenize(texts):\n",
    "    return tokenizer(texts[\"text\"].tolist(), padding=\"max_length\", truncation=True)"
   ]
  },
  {
   "cell_type": "code",
   "execution_count": null,
   "id": "adc06f99-24c7-45d7-b3e4-615098fe4f07",
   "metadata": {},
   "outputs": [],
   "source": [
    "train_dset = (\n",
    "    datasets.load_dataset('hf', 'dair-ai/emotion', split=\"train\")\n",
    "    .map(tokenize, batched=True)\n",
    "    .rename_column('label', 'labels')\n",
    "    .remove_columns([\"text\"])\n",
    ")\n",
    "\n",
    "# train_dset = train_dset[:500].to_pylist()"
   ]
  },
  {
   "cell_type": "code",
   "execution_count": null,
   "id": "5357a85f-9974-4c8c-b443-a8f1e53ef4cc",
   "metadata": {},
   "outputs": [],
   "source": [
    "valid_dset = (\n",
    "    datasets.load_dataset('hf', \"dair-ai/emotion\", split=\"validation\")\n",
    "    .map(tokenize, batched=True)\n",
    "    .rename_column('label', 'labels')\n",
    "    .remove_columns([\"text\"])\n",
    ")"
   ]
  },
  {
   "cell_type": "code",
   "execution_count": null,
   "id": "35b7dee1-b260-48d0-8e2a-17687d6c23bb",
   "metadata": {},
   "outputs": [],
   "source": [
    "len(train_dset), len(valid_dset)"
   ]
  },
  {
   "cell_type": "code",
   "execution_count": null,
   "id": "f9a58abf-52c5-4807-a909-2be3716e27f6",
   "metadata": {},
   "outputs": [],
   "source": [
    "model = AutoModelForSequenceClassification.from_pretrained(\n",
    "    \"bert-base-uncased\",\n",
    "    num_labels=8,\n",
    ")"
   ]
  },
  {
   "cell_type": "code",
   "execution_count": null,
   "id": "349b0093-2bfd-4c94-a1ef-34d476261335",
   "metadata": {},
   "outputs": [],
   "source": [
    "callbacks = [ProgbarLogger()]\n",
    "\n",
    "with config_scope('emotion'):\n",
    "    trainer = Trainer(model, callbacks=callbacks)"
   ]
  },
  {
   "cell_type": "code",
   "execution_count": null,
   "id": "3ac8ee34-fbaf-4e8e-b50d-3cf71d62aa68",
   "metadata": {},
   "outputs": [],
   "source": [
    "metric = TextClassificationMetric(num_labels=8)\n",
    "\n",
    "evaluator = Evaluator(valid_dset, metric=metric, postprocessor='argmax')"
   ]
  },
  {
   "cell_type": "code",
   "execution_count": null,
   "id": "f9750c03-043d-42f8-b2e4-7408497bbea6",
   "metadata": {},
   "outputs": [],
   "source": [
    "trainer.fit(train_dset, evaluator=evaluator)"
   ]
  },
  {
   "cell_type": "code",
   "execution_count": null,
   "id": "1a09bfba-dc69-49b6-a372-67ad1c78220c",
   "metadata": {},
   "outputs": [],
   "source": [
    "test_dset = (\n",
    "    datasets.load_dataset('hf', \"dair-ai/emotion\", split=\"test\")\n",
    "    .map(tokenize, batched=True)\n",
    "    .rename_column('label', 'labels')\n",
    "    .remove_columns([\"text\"])\n",
    ")\n",
    "\n",
    "evaluator = Evaluator(test_dset, metric=metric, postprocessor='argmax')"
   ]
  },
  {
   "cell_type": "code",
   "execution_count": null,
   "id": "412846e6-3e5b-4601-b75b-5b512cceeaff",
   "metadata": {},
   "outputs": [],
   "source": [
    "evaluator.evaluate(trainer)"
   ]
  },
  {
   "cell_type": "code",
   "execution_count": null,
   "id": "1f5ecb99-c4ee-4fb1-a8c1-3d141a685eb6",
   "metadata": {},
   "outputs": [],
   "source": []
  }
 ],
 "metadata": {
  "kernelspec": {
   "display_name": "Python 3 (ipykernel)",
   "language": "python",
   "name": "python3"
  },
  "language_info": {
   "codemirror_mode": {
    "name": "ipython",
    "version": 3
   },
   "file_extension": ".py",
   "mimetype": "text/x-python",
   "name": "python",
   "nbconvert_exporter": "python",
   "pygments_lexer": "ipython3",
   "version": "3.11.5"
  }
 },
 "nbformat": 4,
 "nbformat_minor": 5
}
