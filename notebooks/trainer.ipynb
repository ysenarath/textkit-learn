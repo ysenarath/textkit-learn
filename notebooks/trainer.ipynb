{
 "cells": [
  {
   "cell_type": "code",
   "execution_count": 1,
   "id": "113dd4f8-86a4-4cad-8c6f-069ee640024b",
   "metadata": {},
   "outputs": [
    {
     "name": "stdout",
     "output_type": "stream",
     "text": [
      "/Users/yasas/Documents/Projects/textkit-learn\n"
     ]
    }
   ],
   "source": [
    "cd .."
   ]
  },
  {
   "cell_type": "code",
   "execution_count": 2,
   "id": "0999bf68-5e9a-4ce7-bbab-816377ec3f67",
   "metadata": {},
   "outputs": [
    {
     "name": "stderr",
     "output_type": "stream",
     "text": [
      "/Users/yasas/Documents/Projects/textkit-learn/venv/lib/python3.11/site-packages/pydantic/_internal/_fields.py:128: UserWarning: Field \"model_server_url\" has conflict with protected namespace \"model_\".\n",
      "\n",
      "You may be able to resolve this warning by setting `model_config['protected_namespaces'] = ()`.\n",
      "  warnings.warn(\n",
      "/Users/yasas/Documents/Projects/textkit-learn/venv/lib/python3.11/site-packages/pydantic/_internal/_config.py:317: UserWarning: Valid config keys have changed in V2:\n",
      "* 'schema_extra' has been renamed to 'json_schema_extra'\n",
      "  warnings.warn(message, UserWarning)\n"
     ]
    }
   ],
   "source": [
    "# import datasets\n",
    "from transformers import AutoModelForSequenceClassification, AutoTokenizer\n",
    "\n",
    "from tklearn import datasets\n",
    "from tklearn.metrics import TextClassificationMetric\n",
    "from tklearn.nn.trainer import Trainer\n",
    "from tklearn.nn.evaluator import Evaluator\n",
    "from tklearn.nn.callbacks import ProgbarLogger\n",
    "from tklearn.config import config, config_scope"
   ]
  },
  {
   "cell_type": "code",
   "execution_count": 3,
   "id": "37818a3a-2046-4eb5-a5df-601a6a067c42",
   "metadata": {},
   "outputs": [],
   "source": [
    "config['emotion/Trainer'] = {\n",
    "    'epochs': 2,\n",
    "}"
   ]
  },
  {
   "cell_type": "code",
   "execution_count": 4,
   "id": "8d58a3f5-0ca0-4b70-9eab-0c9ed2efd773",
   "metadata": {},
   "outputs": [],
   "source": [
    "tokenizer = AutoTokenizer.from_pretrained(\"bert-base-uncased\")\n",
    "\n",
    "\n",
    "def tokenize(texts):\n",
    "    return tokenizer(texts[\"text\"].tolist(), padding=\"max_length\", truncation=True)"
   ]
  },
  {
   "cell_type": "code",
   "execution_count": 5,
   "id": "adc06f99-24c7-45d7-b3e4-615098fe4f07",
   "metadata": {},
   "outputs": [],
   "source": [
    "train_dset = (\n",
    "    datasets.load_dataset('hf', 'dair-ai/emotion', split=\"train\").take(range(100))\n",
    "    .map(tokenize, batched=True, keep_columns=True)\n",
    "    .rename_column('label', 'labels')\n",
    "    .remove_columns([\"text\"])\n",
    ")\n",
    "\n",
    "# train_dset = train_dset[:500].to_pylist()"
   ]
  },
  {
   "cell_type": "code",
   "execution_count": 6,
   "id": "b34f5abb-f923-404b-ba5c-7b3b98c6601d",
   "metadata": {},
   "outputs": [
    {
     "data": {
      "text/html": [
       "<style>\n",
       "            .tklearn-container {\n",
       "                border: 1px solid #ccc;\n",
       "                padding: 10px;\n",
       "                margin: 10px;\n",
       "            }\n",
       "            </style>\n",
       "            <div class=\"tklearn-container\">\n",
       "                <table style=\"width: 100%;\">\n",
       "                    <tr>\n",
       "                        <th class=\"label\">Path</th>\n",
       "                        <th>Format</th>\n",
       "                        <th>#Rows</th>\n",
       "                        <th>#Columns</th>\n",
       "                    </tr>\n",
       "                    <tr>\n",
       "                        <td>/Users/yasas/.tklearn/cache/dataset-mapped-4712c86c82069e1b9a689596132b2037</td>\n",
       "                        <td>arrow</td>\n",
       "                        <td>100</td>\n",
       "                        <td>4</td>\n",
       "                    </tr>\n",
       "                </table>\n",
       "                <hr>\n",
       "                <div><div>\n",
       "<style scoped>\n",
       "    .dataframe tbody tr th:only-of-type {\n",
       "        vertical-align: middle;\n",
       "    }\n",
       "\n",
       "    .dataframe tbody tr th {\n",
       "        vertical-align: top;\n",
       "    }\n",
       "\n",
       "    .dataframe thead th {\n",
       "        text-align: right;\n",
       "    }\n",
       "</style>\n",
       "<table border=\"1\" class=\"dataframe\">\n",
       "  <thead>\n",
       "    <tr style=\"text-align: right;\">\n",
       "      <th></th>\n",
       "      <th>labels</th>\n",
       "      <th>input_ids</th>\n",
       "      <th>token_type_ids</th>\n",
       "      <th>attention_mask</th>\n",
       "    </tr>\n",
       "  </thead>\n",
       "  <tbody>\n",
       "    <tr>\n",
       "      <th>0</th>\n",
       "      <td>0</td>\n",
       "      <td>[101, 1045, 2134, 2102, 2514, 26608, 102, 0, 0...</td>\n",
       "      <td>[0, 0, 0, 0, 0, 0, 0, 0, 0, 0, 0, 0, 0, 0, 0, ...</td>\n",
       "      <td>[1, 1, 1, 1, 1, 1, 1, 0, 0, 0, 0, 0, 0, 0, 0, ...</td>\n",
       "    </tr>\n",
       "    <tr>\n",
       "      <th>1</th>\n",
       "      <td>0</td>\n",
       "      <td>[101, 1045, 2064, 2175, 2013, 3110, 2061, 2062...</td>\n",
       "      <td>[0, 0, 0, 0, 0, 0, 0, 0, 0, 0, 0, 0, 0, 0, 0, ...</td>\n",
       "      <td>[1, 1, 1, 1, 1, 1, 1, 1, 1, 1, 1, 1, 1, 1, 1, ...</td>\n",
       "    </tr>\n",
       "    <tr>\n",
       "      <th>2</th>\n",
       "      <td>3</td>\n",
       "      <td>[101, 10047, 9775, 1037, 3371, 2000, 2695, 104...</td>\n",
       "      <td>[0, 0, 0, 0, 0, 0, 0, 0, 0, 0, 0, 0, 0, 0, 0, ...</td>\n",
       "      <td>[1, 1, 1, 1, 1, 1, 1, 1, 1, 1, 1, 1, 0, 0, 0, ...</td>\n",
       "    </tr>\n",
       "    <tr>\n",
       "      <th>3</th>\n",
       "      <td>2</td>\n",
       "      <td>[101, 1045, 2572, 2412, 3110, 16839, 9080, 128...</td>\n",
       "      <td>[0, 0, 0, 0, 0, 0, 0, 0, 0, 0, 0, 0, 0, 0, 0, ...</td>\n",
       "      <td>[1, 1, 1, 1, 1, 1, 1, 1, 1, 1, 1, 1, 1, 1, 1, ...</td>\n",
       "    </tr>\n",
       "    <tr>\n",
       "      <th>4</th>\n",
       "      <td>3</td>\n",
       "      <td>[101, 1045, 2572, 3110, 24665, 7140, 11714, 10...</td>\n",
       "      <td>[0, 0, 0, 0, 0, 0, 0, 0, 0, 0, 0, 0, 0, 0, 0, ...</td>\n",
       "      <td>[1, 1, 1, 1, 1, 1, 1, 1, 0, 0, 0, 0, 0, 0, 0, ...</td>\n",
       "    </tr>\n",
       "  </tbody>\n",
       "</table>\n",
       "</div></div>\n",
       "            </div>"
      ],
      "text/plain": [
       "Dataset(/Users/yasas/.tklearn/cache/dataset-mapped-4712c86c82069e1b9a689596132b2037, arrow, 100)"
      ]
     },
     "execution_count": 6,
     "metadata": {},
     "output_type": "execute_result"
    }
   ],
   "source": [
    "train_dset"
   ]
  },
  {
   "cell_type": "code",
   "execution_count": 7,
   "id": "5357a85f-9974-4c8c-b443-a8f1e53ef4cc",
   "metadata": {},
   "outputs": [],
   "source": [
    "valid_dset = (\n",
    "    datasets.load_dataset('hf', \"dair-ai/emotion\", split=\"validation\").take(range(100))\n",
    "    .map(tokenize, batched=True, keep_columns=True)\n",
    "    .rename_column('label', 'labels')\n",
    "    .remove_columns([\"text\"])\n",
    ")"
   ]
  },
  {
   "cell_type": "code",
   "execution_count": 8,
   "id": "35b7dee1-b260-48d0-8e2a-17687d6c23bb",
   "metadata": {},
   "outputs": [
    {
     "data": {
      "text/plain": [
       "(100, 100)"
      ]
     },
     "execution_count": 8,
     "metadata": {},
     "output_type": "execute_result"
    }
   ],
   "source": [
    "len(train_dset), len(valid_dset)"
   ]
  },
  {
   "cell_type": "code",
   "execution_count": 9,
   "id": "f9a58abf-52c5-4807-a909-2be3716e27f6",
   "metadata": {},
   "outputs": [
    {
     "name": "stderr",
     "output_type": "stream",
     "text": [
      "Some weights of BertForSequenceClassification were not initialized from the model checkpoint at bert-base-uncased and are newly initialized: ['classifier.bias', 'classifier.weight']\n",
      "You should probably TRAIN this model on a down-stream task to be able to use it for predictions and inference.\n"
     ]
    }
   ],
   "source": [
    "model = AutoModelForSequenceClassification.from_pretrained(\n",
    "    \"bert-base-uncased\",\n",
    "    num_labels=8,\n",
    ")"
   ]
  },
  {
   "cell_type": "code",
   "execution_count": 10,
   "id": "349b0093-2bfd-4c94-a1ef-34d476261335",
   "metadata": {},
   "outputs": [],
   "source": [
    "callbacks = [\n",
    "    ProgbarLogger(),\n",
    "]\n",
    "\n",
    "with config_scope('emotion'):\n",
    "    trainer = Trainer(model, callbacks=callbacks)"
   ]
  },
  {
   "cell_type": "code",
   "execution_count": 11,
   "id": "3ac8ee34-fbaf-4e8e-b50d-3cf71d62aa68",
   "metadata": {},
   "outputs": [],
   "source": [
    "metric = TextClassificationMetric(num_labels=8)\n",
    "\n",
    "evaluator = Evaluator(valid_dset, metric=metric, postprocessor='argmax')"
   ]
  },
  {
   "cell_type": "code",
   "execution_count": 12,
   "id": "f9750c03-043d-42f8-b2e4-7408497bbea6",
   "metadata": {},
   "outputs": [
    {
     "data": {
      "application/vnd.jupyter.widget-view+json": {
       "model_id": "858533d5f36941b487aaf83a912eb403",
       "version_major": 2,
       "version_minor": 0
      },
      "text/plain": [
       "Train:   0%|          | 0/26 [00:00<?, ?it/s]"
      ]
     },
     "metadata": {},
     "output_type": "display_data"
    },
    {
     "data": {
      "application/vnd.jupyter.widget-view+json": {
       "model_id": "",
       "version_major": 2,
       "version_minor": 0
      },
      "text/plain": [
       "Predict:   0%|          | 0/13 [00:00<?, ?it/s]"
      ]
     },
     "metadata": {},
     "output_type": "display_data"
    },
    {
     "data": {
      "application/vnd.jupyter.widget-view+json": {
       "model_id": "",
       "version_major": 2,
       "version_minor": 0
      },
      "text/plain": [
       "Predict:   0%|          | 0/13 [00:00<?, ?it/s]"
      ]
     },
     "metadata": {},
     "output_type": "display_data"
    },
    {
     "data": {
      "text/plain": [
       "<tklearn.nn.trainer.Trainer at 0x2bfc0f9d0>"
      ]
     },
     "execution_count": 12,
     "metadata": {},
     "output_type": "execute_result"
    }
   ],
   "source": [
    "trainer.fit(train_dset, evaluator=evaluator)"
   ]
  },
  {
   "cell_type": "code",
   "execution_count": 13,
   "id": "51c5e072-18aa-49d3-b135-84a5925e9f33",
   "metadata": {},
   "outputs": [],
   "source": [
    "import pandas as pd"
   ]
  },
  {
   "cell_type": "code",
   "execution_count": 14,
   "id": "1a09bfba-dc69-49b6-a372-67ad1c78220c",
   "metadata": {},
   "outputs": [],
   "source": [
    "test_dset = (\n",
    "    datasets.load_dataset('hf', \"dair-ai/emotion\", split=\"test\")\n",
    "    .map(tokenize, batched=True, keep_columns=True)\n",
    "    .rename_column('label', 'labels')\n",
    "    .remove_columns([\"text\"])\n",
    ")\n",
    "\n",
    "groups_df = pd.get_dummies(test_dset.select('labels').to_pandas().iloc[:, 0])\n",
    "\n",
    "evaluator = Evaluator(test_dset, metric=metric, postprocessor='argmax', groups=groups_df)"
   ]
  },
  {
   "cell_type": "code",
   "execution_count": 15,
   "id": "6612b738-7d72-4801-af71-216393583a28",
   "metadata": {},
   "outputs": [
    {
     "data": {
      "application/vnd.jupyter.widget-view+json": {
       "model_id": "",
       "version_major": 2,
       "version_minor": 0
      },
      "text/plain": [
       "Predict:   0%|          | 0/250 [00:00<?, ?it/s]"
      ]
     },
     "metadata": {},
     "output_type": "display_data"
    },
    {
     "data": {
      "text/plain": [
       "{'micro': {'f1': 0.36250000000000004, 'precision': 0.3625, 'recall': 0.3625},\n",
       " 'macro': {'f1': 0.18247451682253937,\n",
       "  'precision': 0.1675735440270324,\n",
       "  'recall': 0.20977792136498907},\n",
       " 'weighted': {'f1': 0.3175804440923456,\n",
       "  'precision': 0.29409991800834817,\n",
       "  'recall': 0.3625},\n",
       " 'accuracy': 0.3625,\n",
       " 'val_loss': 1.7873933134078979,\n",
       " 0: {'micro': {'f1': 0.5903614457831325,\n",
       "   'precision': 0.5903614457831325,\n",
       "   'recall': 0.5903614457831325},\n",
       "  'macro': {'f1': 0.2474747474747475,\n",
       "   'precision': 0.3333333333333333,\n",
       "   'recall': 0.19678714859437751},\n",
       "  'weighted': {'f1': 0.7424242424242424,\n",
       "   'precision': 1.0,\n",
       "   'recall': 0.5903614457831325},\n",
       "  'accuracy': 0.5903614457831325},\n",
       " 1: {'micro': {'f1': 0.4719424460431655,\n",
       "   'precision': 0.4719424460431655,\n",
       "   'recall': 0.4719424460431655},\n",
       "  'macro': {'f1': 0.21375040729879444,\n",
       "   'precision': 0.3333333333333333,\n",
       "   'recall': 0.15731414868105517},\n",
       "  'weighted': {'f1': 0.6412512218963833,\n",
       "   'precision': 1.0,\n",
       "   'recall': 0.4719424460431655},\n",
       "  'accuracy': 0.4719424460431655},\n",
       " 2: {'micro': {'f1': 0.0, 'precision': 0.0, 'recall': 0.0},\n",
       "  'macro': {'f1': 0.0, 'precision': 0.0, 'recall': 0.0},\n",
       "  'weighted': {'f1': 0.0, 'precision': 0.0, 'recall': 0.0},\n",
       "  'accuracy': 0.0},\n",
       " 3: {'micro': {'f1': 0.19636363636363635,\n",
       "   'precision': 0.19636363636363635,\n",
       "   'recall': 0.19636363636363635},\n",
       "  'macro': {'f1': 0.1094224924012158,\n",
       "   'precision': 0.3333333333333333,\n",
       "   'recall': 0.06545454545454545},\n",
       "  'weighted': {'f1': 0.3282674772036474,\n",
       "   'precision': 1.0,\n",
       "   'recall': 0.19636363636363635},\n",
       "  'accuracy': 0.19636363636363635},\n",
       " 4: {'micro': {'f1': 0.0, 'precision': 0.0, 'recall': 0.0},\n",
       "  'macro': {'f1': 0.0, 'precision': 0.0, 'recall': 0.0},\n",
       "  'weighted': {'f1': 0.0, 'precision': 0.0, 'recall': 0.0},\n",
       "  'accuracy': 0.0},\n",
       " 5: {'micro': {'f1': 0.0, 'precision': 0.0, 'recall': 0.0},\n",
       "  'macro': {'f1': 0.0, 'precision': 0.0, 'recall': 0.0},\n",
       "  'weighted': {'f1': 0.0, 'precision': 0.0, 'recall': 0.0},\n",
       "  'accuracy': 0.0}}"
      ]
     },
     "execution_count": 15,
     "metadata": {},
     "output_type": "execute_result"
    }
   ],
   "source": [
    "evaluator.evaluate(trainer)"
   ]
  },
  {
   "cell_type": "code",
   "execution_count": null,
   "id": "98c64ed2-4b4d-4ea5-9a7b-01f402c0f4c2",
   "metadata": {},
   "outputs": [],
   "source": []
  }
 ],
 "metadata": {
  "kernelspec": {
   "display_name": "Python 3 (ipykernel)",
   "language": "python",
   "name": "python3"
  },
  "language_info": {
   "codemirror_mode": {
    "name": "ipython",
    "version": 3
   },
   "file_extension": ".py",
   "mimetype": "text/x-python",
   "name": "python",
   "nbconvert_exporter": "python",
   "pygments_lexer": "ipython3",
   "version": "3.11.5"
  }
 },
 "nbformat": 4,
 "nbformat_minor": 5
}
