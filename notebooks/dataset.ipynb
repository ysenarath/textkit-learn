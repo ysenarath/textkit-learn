{
 "cells": [
  {
   "cell_type": "code",
   "execution_count": 1,
   "id": "16d7104e-1fcc-45c5-9b76-3f4b9ff538b2",
   "metadata": {
    "tags": []
   },
   "outputs": [],
   "source": [
    "import os\n",
    "import sys\n",
    "\n",
    "project_path = os.path.abspath(os.path.join('..'))\n",
    "\n",
    "if project_path not in sys.path:\n",
    "    sys.path.append(project_path)"
   ]
  },
  {
   "cell_type": "code",
   "execution_count": 2,
   "id": "49d45421-9cf4-4590-8fbb-36f51a48453c",
   "metadata": {
    "tags": []
   },
   "outputs": [],
   "source": [
    "import json\n",
    "import typing\n",
    "from collections.abc import Mapping, MutableMapping, Sequence\n",
    "\n",
    "import numpy as np\n",
    "\n",
    "import tklearn as tk\n",
    "from tklearn.datasets import Dataset\n",
    "from tklearn.datasets.schema import Schema"
   ]
  },
  {
   "cell_type": "code",
   "execution_count": 3,
   "id": "7365d2ea-9413-47b7-840e-ef74a00e0e88",
   "metadata": {
    "tags": []
   },
   "outputs": [],
   "source": [
    "import json\n",
    "import typing\n",
    "from collections.abc import Mapping, MutableMapping, Sequence\n",
    "\n",
    "import numpy as np\n",
    "\n",
    "import tklearn as tk\n",
    "from tklearn.datasets import Dataset\n",
    "from tklearn.datasets.schema import Schema"
   ]
  },
  {
   "cell_type": "code",
   "execution_count": 4,
   "id": "e87846df-5ca2-4cf8-91d4-e5b0623d3148",
   "metadata": {},
   "outputs": [
    {
     "data": {
      "text/plain": [
       "<tklearn.datasets.dataset.Dataset at 0x7f7bcc3bbdc0>"
      ]
     },
     "execution_count": 4,
     "metadata": {},
     "output_type": "execute_result"
    }
   ],
   "source": [
    "docs = [\n",
    "    {\n",
    "        'id': 0,\n",
    "        'text': 'this is the document text',\n",
    "        'embedding': np.array([1, 2, 3]),\n",
    "        'tokens': {'token_ids': [1, 2, 3], 'mask': [[1, 2, 6], [3, 4]]},\n",
    "\n",
    "    },\n",
    "    {\n",
    "        'id': 1,\n",
    "        'text': 'this is the document 1 text',\n",
    "        'embedding': np.array([4, 5, 7]),\n",
    "        'tokens': {'token_ids': [1, 2, 3, 4, 6], 'mask': [[1, 2], [4], [3, 4]]},\n",
    "    },\n",
    "    {\n",
    "        'id': 2,\n",
    "        'text': 'this is the document 2 text',\n",
    "        'embedding': np.array([7, 8, 9]),\n",
    "        'tokens': {'token_ids': [1, 2, 3, 4, 6], 'mask': [[1, ]]},\n",
    "    },\n",
    "]\n",
    "\n",
    "dataset = Dataset()\n",
    "\n",
    "for i, doc in enumerate(docs):\n",
    "    dataset.append(doc)\n",
    "\n",
    "dataset"
   ]
  },
  {
   "cell_type": "code",
   "execution_count": 5,
   "id": "69cd4d6b-2653-45eb-b0f0-b406d489dabf",
   "metadata": {
    "tags": []
   },
   "outputs": [
    {
     "data": {
      "text/plain": [
       "<tklearn.datasets.dataset.DocumentList at 0x7f7bcc54c760>"
      ]
     },
     "execution_count": 5,
     "metadata": {},
     "output_type": "execute_result"
    }
   ],
   "source": [
    "dataset.fields['embedding']"
   ]
  },
  {
   "cell_type": "code",
   "execution_count": 13,
   "id": "d1f8573e-6e16-4df4-95f4-ab26d5caf2ff",
   "metadata": {
    "tags": []
   },
   "outputs": [
    {
     "data": {
      "text/plain": [
       "{'id': 0,\n",
       " 'text': 'this is the document text',\n",
       " 'embedding': array([1, 2, 3], dtype=uint8),\n",
       " 'tokens': {'token_ids': [1, 2, 3], 'mask': [[1, 2, 6], [3, 4]]}}"
      ]
     },
     "execution_count": 13,
     "metadata": {},
     "output_type": "execute_result"
    }
   ],
   "source": [
    "dataset[0]"
   ]
  },
  {
   "cell_type": "code",
   "execution_count": 7,
   "id": "9cbaa0fe-c1d5-4411-ac48-2c4902315326",
   "metadata": {
    "tags": []
   },
   "outputs": [],
   "source": [
    "dataset[0] = {\n",
    "    'id': 0,\n",
    "    'text': 'this is the document text',\n",
    "    'embedding': np.array([1, 2, 3]),\n",
    "    'tokens': {'token_ids': [1, 2, 3], 'mask': [[1, 2, 6], [3, 4]]}\n",
    "}"
   ]
  },
  {
   "cell_type": "code",
   "execution_count": 8,
   "id": "f42545ea-aebb-44ad-8ff8-65424834cf74",
   "metadata": {
    "tags": []
   },
   "outputs": [
    {
     "name": "stdout",
     "output_type": "stream",
     "text": [
      "[1, 2, 3]\n",
      "[1, 2, 3, 4, 6]\n",
      "[1, 2, 3, 4, 6]\n"
     ]
    }
   ],
   "source": [
    "for item in dataset.fields['tokens/token_ids']:\n",
    "    print(item)"
   ]
  },
  {
   "cell_type": "code",
   "execution_count": 9,
   "id": "36337497-958b-4c15-97c8-7f422e3f1740",
   "metadata": {
    "tags": []
   },
   "outputs": [
    {
     "data": {
      "text/plain": [
       "[array([1, 2, 3], dtype=uint8), array([4, 5, 7], dtype=uint8)]"
      ]
     },
     "execution_count": 9,
     "metadata": {},
     "output_type": "execute_result"
    }
   ],
   "source": [
    "dataset.fields['embedding'][0:2]"
   ]
  },
  {
   "cell_type": "code",
   "execution_count": 10,
   "id": "935c68c6-2d1c-44b9-ae7d-12c377a91ee1",
   "metadata": {
    "tags": []
   },
   "outputs": [
    {
     "data": {
      "text/plain": [
       "<tklearn.datasets.dataset.DocumentList at 0x7f7bcc5304f0>"
      ]
     },
     "execution_count": 10,
     "metadata": {},
     "output_type": "execute_result"
    }
   ],
   "source": [
    "dataset.fields['tokens']"
   ]
  },
  {
   "cell_type": "code",
   "execution_count": null,
   "id": "55f3c64d",
   "metadata": {},
   "outputs": [],
   "source": []
  }
 ],
 "metadata": {
  "kernelspec": {
   "display_name": "Python 3 (ipykernel)",
   "language": "python",
   "name": "python3"
  },
  "language_info": {
   "codemirror_mode": {
    "name": "ipython",
    "version": 3
   },
   "file_extension": ".py",
   "mimetype": "text/x-python",
   "name": "python",
   "nbconvert_exporter": "python",
   "pygments_lexer": "ipython3",
   "version": "3.9.13"
  }
 },
 "nbformat": 4,
 "nbformat_minor": 5
}
