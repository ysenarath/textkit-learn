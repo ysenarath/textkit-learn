{
 "cells": [
  {
   "cell_type": "code",
   "execution_count": 1,
   "id": "16d7104e-1fcc-45c5-9b76-3f4b9ff538b2",
   "metadata": {
    "tags": []
   },
   "outputs": [],
   "source": [
    "import os\n",
    "import sys\n",
    "\n",
    "project_path = os.path.abspath(os.path.join('..'))\n",
    "\n",
    "if project_path not in sys.path:\n",
    "    sys.path.append(project_path)"
   ]
  },
  {
   "cell_type": "code",
   "execution_count": 2,
   "id": "49d45421-9cf4-4590-8fbb-36f51a48453c",
   "metadata": {
    "tags": []
   },
   "outputs": [],
   "source": [
    "import numpy as np\n",
    "from tqdm import auto as tqdm\n",
    "\n",
    "from tklearn.datasets import Dataset"
   ]
  },
  {
   "cell_type": "code",
   "execution_count": 3,
   "id": "e87846df-5ca2-4cf8-91d4-e5b0623d3148",
   "metadata": {},
   "outputs": [
    {
     "data": {
      "application/vnd.jupyter.widget-view+json": {
       "model_id": "211db27c1a9e451d8946334f4e4b7116",
       "version_major": 2,
       "version_minor": 0
      },
      "text/plain": [
       "  0%|          | 0/100 [00:00<?, ?it/s]"
      ]
     },
     "metadata": {},
     "output_type": "display_data"
    }
   ],
   "source": [
    "docs = [\n",
    "    {\n",
    "        'id': 0,\n",
    "        'text': 'this is the document text',\n",
    "        'embedding': np.array([1, 2, 3]),\n",
    "        'tokens': {'token_ids': [1, 2, 3], 'mask': [[1, 2, 6], [3, 4]]},\n",
    "\n",
    "    },\n",
    "    {\n",
    "        'id': 1,\n",
    "        'text': 'this is the document 1 text',\n",
    "        'embedding': np.array([4, 5, 7]),\n",
    "        'tokens': {'token_ids': [1, 2, 3, 4, 6], 'mask': [[1, 2], [4], [3, 4]]},\n",
    "    },\n",
    "    {\n",
    "        'id': 2,\n",
    "        'text': 'this is the document 2 text',\n",
    "        'embedding': np.array([7, 8, 9]),\n",
    "        'tokens': {'token_ids': [1, 2, 3, 4, 6], 'mask': [[1, ]]},\n",
    "    },\n",
    "]\n",
    "\n",
    "dataset = Dataset('sample.zarr')\n",
    "\n",
    "for i in tqdm.trange(100):\n",
    "    dataset.append(docs[i % 3])"
   ]
  },
  {
   "cell_type": "code",
   "execution_count": 4,
   "id": "c5396052",
   "metadata": {},
   "outputs": [],
   "source": [
    "del dataset\n",
    "\n",
    "dataset = Dataset('sample.zarr')"
   ]
  },
  {
   "cell_type": "code",
   "execution_count": 5,
   "id": "e2430db7",
   "metadata": {},
   "outputs": [
    {
     "data": {
      "text/plain": [
       "42427"
      ]
     },
     "execution_count": 5,
     "metadata": {},
     "output_type": "execute_result"
    }
   ],
   "source": [
    "len(dataset)"
   ]
  },
  {
   "cell_type": "code",
   "execution_count": 6,
   "id": "69cd4d6b-2653-45eb-b0f0-b406d489dabf",
   "metadata": {
    "tags": []
   },
   "outputs": [
    {
     "data": {
      "text/plain": [
       "<tklearn.datasets.dataset.DocumentList at 0x7f82b458a3d0>"
      ]
     },
     "execution_count": 6,
     "metadata": {},
     "output_type": "execute_result"
    }
   ],
   "source": [
    "dataset.fields['embedding']"
   ]
  },
  {
   "cell_type": "code",
   "execution_count": 7,
   "id": "d1f8573e-6e16-4df4-95f4-ab26d5caf2ff",
   "metadata": {
    "tags": []
   },
   "outputs": [
    {
     "data": {
      "text/plain": [
       "{'embedding': array([7, 8, 9], dtype=uint8),\n",
       " 'id': 2,\n",
       " 'text': 'this is the document 2 text',\n",
       " 'tokens': {'mask': [[1]], 'token_ids': [1, 2, 3, 4, 6]}}"
      ]
     },
     "execution_count": 7,
     "metadata": {},
     "output_type": "execute_result"
    }
   ],
   "source": [
    "dataset[2]"
   ]
  },
  {
   "cell_type": "code",
   "execution_count": 8,
   "id": "9cbaa0fe-c1d5-4411-ac48-2c4902315326",
   "metadata": {
    "tags": []
   },
   "outputs": [
    {
     "ename": "ValidationError",
     "evalue": "expected 'uint8', found 'float16'",
     "output_type": "error",
     "traceback": [
      "\u001b[0;31m---------------------------------------------------------------------------\u001b[0m",
      "\u001b[0;31mValidationError\u001b[0m                           Traceback (most recent call last)",
      "Cell \u001b[0;32mIn[8], line 1\u001b[0m\n\u001b[0;32m----> 1\u001b[0m dataset[\u001b[39m0\u001b[39;49m] \u001b[39m=\u001b[39m {\n\u001b[1;32m      2\u001b[0m     \u001b[39m'\u001b[39m\u001b[39mid\u001b[39m\u001b[39m'\u001b[39m: \u001b[39m2.3\u001b[39m,\n\u001b[1;32m      3\u001b[0m     \u001b[39m'\u001b[39m\u001b[39mtext\u001b[39m\u001b[39m'\u001b[39m: \u001b[39m'\u001b[39m\u001b[39mthis is the document text\u001b[39m\u001b[39m'\u001b[39m,\n\u001b[1;32m      4\u001b[0m     \u001b[39m'\u001b[39m\u001b[39membedding\u001b[39m\u001b[39m'\u001b[39m: np\u001b[39m.\u001b[39marray([\u001b[39m1\u001b[39m, \u001b[39m2\u001b[39m, \u001b[39m3\u001b[39m]),\n\u001b[1;32m      5\u001b[0m     \u001b[39m'\u001b[39m\u001b[39mtokens\u001b[39m\u001b[39m'\u001b[39m: {\u001b[39m'\u001b[39m\u001b[39mtoken_ids\u001b[39m\u001b[39m'\u001b[39m: [\u001b[39m1\u001b[39m, \u001b[39m2\u001b[39m, \u001b[39m3\u001b[39m], \u001b[39m'\u001b[39m\u001b[39mmask\u001b[39m\u001b[39m'\u001b[39m: [[\u001b[39m1\u001b[39m, \u001b[39m2\u001b[39m, \u001b[39m6\u001b[39m], [\u001b[39m3\u001b[39m, \u001b[39m4\u001b[39m]]}\n\u001b[1;32m      6\u001b[0m }\n",
      "File \u001b[0;32m~/Documents/Projects/ysenarath/textkit-learn/tklearn/datasets/dataset.py:211\u001b[0m, in \u001b[0;36mDocumentList.__setitem__\u001b[0;34m(self, index, value)\u001b[0m\n\u001b[1;32m    195\u001b[0m \u001b[39mdef\u001b[39;00m \u001b[39m__setitem__\u001b[39m(\u001b[39mself\u001b[39m, index, value):\n\u001b[1;32m    196\u001b[0m \u001b[39m    \u001b[39m\u001b[39m\"\"\"Set the value of the document at the given index.\u001b[39;00m\n\u001b[1;32m    197\u001b[0m \u001b[39m    \u001b[39;00m\n\u001b[1;32m    198\u001b[0m \u001b[39m    \u001b[39;00m\n\u001b[0;32m   (...)\u001b[0m\n\u001b[1;32m    209\u001b[0m \u001b[39m        If the value is not compatible with the current schema.\u001b[39;00m\n\u001b[1;32m    210\u001b[0m \u001b[39m    \"\"\"\u001b[39;00m\n\u001b[0;32m--> 211\u001b[0m     \u001b[39mself\u001b[39;49m\u001b[39m.\u001b[39;49m_schema\u001b[39m.\u001b[39;49mitems\u001b[39m.\u001b[39;49mvalidate(value)\n\u001b[1;32m    212\u001b[0m     index_iter \u001b[39m=\u001b[39m \u001b[39mself\u001b[39m\u001b[39m.\u001b[39m_index_to_list(index)\n\u001b[1;32m    213\u001b[0m     \u001b[39mif\u001b[39;00m index_iter \u001b[39mis\u001b[39;00m \u001b[39mnot\u001b[39;00m \u001b[39mNone\u001b[39;00m:\n",
      "File \u001b[0;32m~/Documents/Projects/ysenarath/textkit-learn/tklearn/datasets/schema.py:419\u001b[0m, in \u001b[0;36mSchema.validate\u001b[0;34m(self, data)\u001b[0m\n\u001b[1;32m    417\u001b[0m                 \u001b[39mcontinue\u001b[39;00m\n\u001b[1;32m    418\u001b[0m         value \u001b[39m=\u001b[39m data[key]\n\u001b[0;32m--> 419\u001b[0m         schema\u001b[39m.\u001b[39;49mvalidate(value)\n\u001b[1;32m    420\u001b[0m \u001b[39melif\u001b[39;00m \u001b[39mself\u001b[39m\u001b[39m.\u001b[39mtype \u001b[39m==\u001b[39m \u001b[39m'\u001b[39m\u001b[39mstr\u001b[39m\u001b[39m'\u001b[39m:\n\u001b[1;32m    421\u001b[0m     \u001b[39mif\u001b[39;00m dtype \u001b[39m!=\u001b[39m \u001b[39m'\u001b[39m\u001b[39mstr\u001b[39m\u001b[39m'\u001b[39m:\n",
      "File \u001b[0;32m~/Documents/Projects/ysenarath/textkit-learn/tklearn/datasets/schema.py:434\u001b[0m, in \u001b[0;36mSchema.validate\u001b[0;34m(self, data)\u001b[0m\n\u001b[1;32m    432\u001b[0m \u001b[39melse\u001b[39;00m:\n\u001b[1;32m    433\u001b[0m     \u001b[39mif\u001b[39;00m dtype \u001b[39m!=\u001b[39m \u001b[39mself\u001b[39m\u001b[39m.\u001b[39mtype:\n\u001b[0;32m--> 434\u001b[0m         \u001b[39mraise\u001b[39;00m ValidationError(\u001b[39m'\u001b[39m\u001b[39mexpected \u001b[39m\u001b[39m\\'\u001b[39;00m\u001b[39m{}\u001b[39;00m\u001b[39m\\'\u001b[39;00m\u001b[39m, found \u001b[39m\u001b[39m\\'\u001b[39;00m\u001b[39m{}\u001b[39;00m\u001b[39m\\'\u001b[39;00m\u001b[39m'\u001b[39m\u001b[39m.\u001b[39mformat(\u001b[39mself\u001b[39m\u001b[39m.\u001b[39mtype, dtype))\n",
      "\u001b[0;31mValidationError\u001b[0m: expected 'uint8', found 'float16'"
     ]
    }
   ],
   "source": [
    "dataset[0] = {\n",
    "    'id': 2.3,\n",
    "    'text': 'this is the document text',\n",
    "    'embedding': np.array([1, 2, 3]),\n",
    "    'tokens': {'token_ids': [1, 2, 3], 'mask': [[1, 2, 6], [3, 4]]}\n",
    "}"
   ]
  },
  {
   "cell_type": "code",
   "execution_count": null,
   "id": "6cd0eefa",
   "metadata": {},
   "outputs": [],
   "source": [
    "dataset.fields._schema"
   ]
  },
  {
   "cell_type": "code",
   "execution_count": null,
   "id": "1eb8cda2",
   "metadata": {},
   "outputs": [],
   "source": [
    "dataset.fields['id']._data.dtype"
   ]
  },
  {
   "cell_type": "code",
   "execution_count": null,
   "id": "36337497-958b-4c15-97c8-7f422e3f1740",
   "metadata": {
    "tags": []
   },
   "outputs": [],
   "source": [
    "dataset.fields['id']._schema"
   ]
  },
  {
   "cell_type": "code",
   "execution_count": null,
   "id": "33795710",
   "metadata": {},
   "outputs": [],
   "source": [
    "dataset[0]"
   ]
  },
  {
   "cell_type": "code",
   "execution_count": null,
   "id": "66f63b57",
   "metadata": {},
   "outputs": [],
   "source": [
    "import zarr"
   ]
  },
  {
   "cell_type": "code",
   "execution_count": null,
   "id": "144574a7",
   "metadata": {},
   "outputs": [],
   "source": [
    "z = zarr.zeros((10000, 10000), chunks=(1000, 1000), dtype='i4',\n",
    "                synchronizer=zarr.ThreadSynchronizer())"
   ]
  },
  {
   "cell_type": "code",
   "execution_count": null,
   "id": "ebed319f",
   "metadata": {},
   "outputs": [],
   "source": [
    "z[0][0] = 4.5"
   ]
  },
  {
   "cell_type": "code",
   "execution_count": null,
   "id": "fa905a7a",
   "metadata": {},
   "outputs": [],
   "source": [
    "z.dtype"
   ]
  },
  {
   "cell_type": "code",
   "execution_count": null,
   "id": "98508145",
   "metadata": {},
   "outputs": [],
   "source": [
    "z[0, 0]"
   ]
  },
  {
   "cell_type": "code",
   "execution_count": null,
   "id": "93e04b4d",
   "metadata": {},
   "outputs": [],
   "source": []
  }
 ],
 "metadata": {
  "kernelspec": {
   "display_name": "Python 3 (ipykernel)",
   "language": "python",
   "name": "python3"
  },
  "language_info": {
   "codemirror_mode": {
    "name": "ipython",
    "version": 3
   },
   "file_extension": ".py",
   "mimetype": "text/x-python",
   "name": "python",
   "nbconvert_exporter": "python",
   "pygments_lexer": "ipython3",
   "version": "3.9.13"
  }
 },
 "nbformat": 4,
 "nbformat_minor": 5
}
