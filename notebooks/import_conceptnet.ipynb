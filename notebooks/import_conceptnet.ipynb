{
 "cells": [
  {
   "cell_type": "code",
   "execution_count": null,
   "id": "bac22032-7805-4f4b-8c0a-35c53241a764",
   "metadata": {},
   "outputs": [],
   "source": [
    "# %reload_ext autoreload\n",
    "# %autoreload 2"
   ]
  },
  {
   "cell_type": "code",
   "execution_count": null,
   "id": "a3e773d1-6574-43ee-8e98-3096f35c751b",
   "metadata": {},
   "outputs": [],
   "source": [
    "from tklearn.kb.loader import KnowledgeLoaderConfig, AutoKnowledgeLoader\n",
    "\n",
    "config = KnowledgeLoaderConfig.from_dict({\n",
    "    \"identifier\": \"conceptnet\",\n",
    "})\n",
    "\n",
    "loader = AutoKnowledgeLoader(config)\n",
    "\n",
    "items = set()\n",
    "\n",
    "for i, row in enumerate(loader.iterrows()):\n",
    "    items.add(row[\"start\"][\"@id\"])\n",
    "    items.add(row[\"end\"][\"@id\"])\n",
    "\n",
    "print(len(items))"
   ]
  },
  {
   "cell_type": "code",
   "execution_count": null,
   "id": "92074372-e15d-49cd-b397-1ab1c49c7c49",
   "metadata": {},
   "outputs": [],
   "source": []
  },
  {
   "cell_type": "code",
   "execution_count": null,
   "id": "c22c6fdf-91b5-44bc-ae06-8632ccb2c699",
   "metadata": {},
   "outputs": [],
   "source": [
    "from tklearn.kb import KnowledgeBase\n",
    "\n",
    "kb = KnowledgeBase(\"conceptnet/conceptnet-v5.7.0\")"
   ]
  },
  {
   "cell_type": "code",
   "execution_count": null,
   "id": "83b2375c-d55b-49fc-9e8d-1024fd921de7",
   "metadata": {},
   "outputs": [],
   "source": [
    "kb.index.frozen"
   ]
  },
  {
   "cell_type": "code",
   "execution_count": null,
   "id": "3ee0b972-6353-4657-9212-99e47d2433d4",
   "metadata": {},
   "outputs": [],
   "source": [
    "vocab = kb.get_vocab()"
   ]
  },
  {
   "cell_type": "code",
   "execution_count": null,
   "id": "520a7d45-49af-428a-906c-a2784d44d835",
   "metadata": {},
   "outputs": [],
   "source": [
    "vocab.get_index(\"[UNK]\")"
   ]
  },
  {
   "cell_type": "code",
   "execution_count": null,
   "id": "bb5fb5c5-688f-4ef4-9b3a-168867969eaa",
   "metadata": {},
   "outputs": [],
   "source": [
    "# kb.index.find('http://conceptnet.io/c/aa/a', 'http://conceptnet.io/r/ExternalURL',)"
   ]
  },
  {
   "cell_type": "code",
   "execution_count": null,
   "id": "341dd594-ed26-4bb3-a743-5865e78d6e54",
   "metadata": {},
   "outputs": [],
   "source": [
    "from tqdm import auto as tqdm\n",
    "from collections import defaultdict\n",
    "\n",
    "from flashtext2 import KeywordProcessor\n",
    "\n",
    "\n",
    "kp = KeywordProcessor(False)\n",
    "\n",
    "label2id = defaultdict(set)\n",
    "\n",
    "vocab = kb.get_vocab()\n",
    "\n",
    "for id, label in tqdm.tqdm(vocab):\n",
    "    label2id[label].add(id)\n",
    "    kp.add_keyword(label)\n",
    "    if \"-\" in label:\n",
    "        new_label = label.replace(\"-\", \" \")\n",
    "        label2id[new_label].add(id)\n",
    "        kp.add_keyword(new_label)\n",
    "    "
   ]
  },
  {
   "cell_type": "code",
   "execution_count": null,
   "id": "eb14fbc3-7bbc-45ea-9df3-295dadd013c7",
   "metadata": {},
   "outputs": [],
   "source": [
    "import base64\n",
    "import random\n",
    "import string\n",
    "\n",
    "class TextEncoder:\n",
    "    def __init__(self, salt_length=8):\n",
    "        \"\"\"Initialize the encoder with optional salt length.\"\"\"\n",
    "        self.salt_length = salt_length\n",
    "\n",
    "    def _generate_salt(self):\n",
    "        \"\"\"Generate a random salt string.\"\"\"\n",
    "        return ''.join(random.choices(string.ascii_letters + string.digits, k=self.salt_length))\n",
    "\n",
    "    def encode(self, text):\n",
    "        \"\"\"\n",
    "        Encode text using base64 encoding with added salt.\n",
    "        Returns tuple of (encoded_text, salt) for later decoding.\n",
    "        \"\"\"\n",
    "        if not isinstance(text, str):\n",
    "            raise TypeError(\"Input must be a string\")\n",
    "\n",
    "        # Generate a random salt\n",
    "        salt = self._generate_salt()\n",
    "        \n",
    "        # Combine salt and text\n",
    "        salted_text = salt + text\n",
    "        \n",
    "        # Convert to bytes and encode using base64\n",
    "        text_bytes = salted_text.encode('utf-8')\n",
    "        encoded_bytes = base64.b64encode(text_bytes)\n",
    "        \n",
    "        # Convert back to string for storage/transmission\n",
    "        encoded_text = encoded_bytes.decode('utf-8')\n",
    "        \n",
    "        return encoded_text, salt\n",
    "\n",
    "    def decode(self, encoded_text, salt):\n",
    "        \"\"\"\n",
    "        Decode the encoded text using the original salt.\n",
    "        \"\"\"\n",
    "        try:\n",
    "            # Convert from base64 back to bytes\n",
    "            decoded_bytes = base64.b64decode(encoded_text)\n",
    "            \n",
    "            # Convert bytes back to string\n",
    "            decoded_text = decoded_bytes.decode('utf-8')\n",
    "            \n",
    "            # Remove the salt from the beginning\n",
    "            if decoded_text.startswith(salt):\n",
    "                return decoded_text[len(salt):]\n",
    "            else:\n",
    "                raise ValueError(\"Invalid salt or corrupted data\")\n",
    "            \n",
    "        except base64.binascii.Error:\n",
    "            raise ValueError(\"Invalid base64 encoding\")\n",
    "        except UnicodeDecodeError:\n",
    "            raise ValueError(\"Unable to decode the text\")\n",
    "\n",
    "# Create encoder instance\n",
    "encoder = TextEncoder()\n",
    "\n",
    "# Encode the text\n",
    "try:\n",
    "    encoded_text, salt =\"eGdWOGlvcldGb3Igc3RhcnRlcnMgYmVuZCBvdmVyIHRoZSBvbmUgaW4gcGluayBhbmQga2ljayB0aGF0IGFzcyBhbmQgcHVzc3kgdG8gZ2V0IGEgdGFzdGUgdW50aWwgc2hlJ3MgYmVnZ2luZyBmb3IgYSBkaWNrIGluc2lkZSBoZXIu\", \"xgV8iorW\"\n",
    "    \n",
    "    # Decode the text\n",
    "    decoded_text = encoder.decode(encoded_text, salt)\n",
    "    print(f\"\\nDecoded text: {decoded_text}\")\n",
    "    \n",
    "    # Verify the result\n",
    "    print(f\"\\nSuccessful decode: {original_text == decoded_text}\")\n",
    "    \n",
    "except Exception as e:\n",
    "    print(f\"An error occurred: {str(e)}\")"
   ]
  },
  {
   "cell_type": "code",
   "execution_count": null,
   "id": "1b9157f2-53e4-43cc-9424-e653d75249fa",
   "metadata": {},
   "outputs": [],
   "source": [
    "from rdflib import URIRef\n",
    "import urllib\n",
    "\n",
    "\n",
    "def uriref(val: str) -> URIRef:\n",
    "    # urllib.parse.urlparse(\"https://conceptnet.io/r/ExternalURL\")\n",
    "    q = urllib.parse.urlparse(val)\n",
    "    # <scheme>://<netloc>/<path>;<params>?<query>#<fragment>\n",
    "    q = q._replace(\n",
    "        path=urllib.parse.quote(q.path),\n",
    "        params=urllib.parse.quote(q.params),\n",
    "        query=urllib.parse.quote(q.query),\n",
    "        fragment=urllib.parse.quote(q.fragment),\n",
    "    )\n",
    "    val = urllib.parse.urlunparse(q)\n",
    "    # val = urllib.parse.quote(val)\n",
    "    return URIRef(val)\n",
    "\n",
    "\n",
    "\n",
    "# triger warning: explicit message from the dataset\n",
    "text_ = decoded_text\n",
    "\n",
    "triplets = {}\n",
    "\n",
    "for token, i, j in kp.extract_keywords_with_span(text_.replace(\"-\", \" \")):\n",
    "    # print(token, i, j, kb.find_neighbors(label2id[token]))\n",
    "    key = (i, j, token)\n",
    "    triplets[key] = []\n",
    "    for id in label2id[token]:\n",
    "        triplets[key] += kb.index.find(id)"
   ]
  },
  {
   "cell_type": "code",
   "execution_count": null,
   "id": "cb979a2b-2adb-4c2f-b6c2-a05a87a9a434",
   "metadata": {},
   "outputs": [],
   "source": [
    "triplets"
   ]
  },
  {
   "cell_type": "code",
   "execution_count": null,
   "id": "a05225c6-ac4d-4bc3-b62b-23727aec5df9",
   "metadata": {},
   "outputs": [],
   "source": []
  }
 ],
 "metadata": {
  "kernelspec": {
   "display_name": "Python 3 (ipykernel)",
   "language": "python",
   "name": "python3"
  },
  "language_info": {
   "codemirror_mode": {
    "name": "ipython",
    "version": 3
   },
   "file_extension": ".py",
   "mimetype": "text/x-python",
   "name": "python",
   "nbconvert_exporter": "python",
   "pygments_lexer": "ipython3",
   "version": "3.11.5"
  }
 },
 "nbformat": 4,
 "nbformat_minor": 5
}
