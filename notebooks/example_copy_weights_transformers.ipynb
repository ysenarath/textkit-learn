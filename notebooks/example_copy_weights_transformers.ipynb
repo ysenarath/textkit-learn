{
 "cells": [
  {
   "cell_type": "code",
   "execution_count": null,
   "id": "96e7426c-6bc9-4342-83b3-ed48683a27ba",
   "metadata": {},
   "outputs": [],
   "source": [
    "import torch\n",
    "from transformers import (\n",
    "    AutoModelForSequenceClassification,\n",
    "    AutoTokenizer,\n",
    "    BertForSequenceClassification,RobertaForSequenceClassification,\n",
    ")\n",
    "\n",
    "model = AutoModelForSequenceClassification.from_pretrained(\n",
    "    \"bert-base-uncased\",\n",
    "    num_labels=2,\n",
    "    output_attentions=False,\n",
    "    output_hidden_states=False,\n",
    ")\n",
    "\n",
    "with torch.no_grad():\n",
    "    model.classifier.weight.zero_()\n",
    "    model.classifier.bias.zero_()"
   ]
  },
  {
   "cell_type": "code",
   "execution_count": null,
   "id": "9595110e-f63f-4803-ad13-170ad9016abd",
   "metadata": {},
   "outputs": [],
   "source": [
    "isinstance(model, RobertaForSequenceClassification)"
   ]
  },
  {
   "cell_type": "code",
   "execution_count": null,
   "id": "ab269484-f2d7-48a1-866e-bdec16b7138a",
   "metadata": {},
   "outputs": [],
   "source": [
    "# model.classifier.weight.shape"
   ]
  },
  {
   "cell_type": "code",
   "execution_count": null,
   "id": "ae83fb27-36b6-409a-832a-60473941d99f",
   "metadata": {},
   "outputs": [],
   "source": [
    "def update_classification_head(model, num_labels):\n",
    "    # self.classifier = nn.Linear(config.hidden_size, config.num_labels)\n",
    "    classifier = torch.nn.Linear(model.config.hidden_size, num_labels)\n",
    "    # copy old weights\n",
    "    with torch.no_grad():\n",
    "        classifier.weight.index_copy_(\n",
    "            0,\n",
    "            torch.tensor(range(model.classifier.weight.size(0)), dtype=torch.long),\n",
    "            model.classifier.weight,\n",
    "        )\n",
    "        classifier.bias.index_copy_(\n",
    "            0,\n",
    "            torch.tensor(range(model.classifier.bias.size(0)), dtype=torch.long),\n",
    "            model.classifier.bias,\n",
    "        )\n",
    "    # replace classifier\n",
    "    model.classifier = classifier\n",
    "    return model"
   ]
  },
  {
   "cell_type": "code",
   "execution_count": null,
   "id": "7940ae20-b7e6-4894-ae95-f041452a93e6",
   "metadata": {},
   "outputs": [],
   "source": [
    "update_classification_head(model, 3).classifier.weight.data"
   ]
  },
  {
   "cell_type": "code",
   "execution_count": null,
   "id": "9212cbce-621e-4fe0-ac6b-b9de3f7516ae",
   "metadata": {},
   "outputs": [],
   "source": []
  },
  {
   "cell_type": "code",
   "execution_count": null,
   "id": "0697d6ec-ef43-4ae0-bed1-83a67d82adb2",
   "metadata": {},
   "outputs": [],
   "source": []
  }
 ],
 "metadata": {
  "kernelspec": {
   "display_name": "Python 3 (ipykernel)",
   "language": "python",
   "name": "python3"
  },
  "language_info": {
   "codemirror_mode": {
    "name": "ipython",
    "version": 3
   },
   "file_extension": ".py",
   "mimetype": "text/x-python",
   "name": "python",
   "nbconvert_exporter": "python",
   "pygments_lexer": "ipython3",
   "version": "3.11.5"
  }
 },
 "nbformat": 4,
 "nbformat_minor": 5
}
