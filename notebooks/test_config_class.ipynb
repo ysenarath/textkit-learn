{
 "cells": [
  {
   "cell_type": "code",
   "execution_count": null,
   "id": "fcd94b0d-2284-4acb-b8a3-9b0ebeb9adef",
   "metadata": {},
   "outputs": [],
   "source": [
    "from dataclasses import dataclass, field\n",
    "from typing import Any, Dict, Iterator, MutableMapping\n",
    "from tklearn.nn.base import ModelConfig\n",
    "\n",
    "class SampleConfig(ModelConfig):\n",
    "    name: str\n",
    "    value: int\n",
    "    options: Dict[str, Any] = field(default_factory=dict)\n",
    "\n",
    "\n",
    "# Example usage\n",
    "config = SampleConfig(name=\"test\", value=42, options={\"debug\": True})\n",
    "print(config[\"name\"])  # Accessing like a dict\n",
    "config[\"value\"] = 100  # Setting like a dict\n",
    "print(\"name\" in config)  # Checking if key exists\n",
    "print(config.get(\"options\"))  # Using get method\n",
    "print(config.to_dict())  # Converting to dictionary\n",
    "print(len(config))  # Getting the number of items\n",
    "del config[\"options\"]  # Deleting an item\n",
    "print(list(config))  # Iterating over keys\n"
   ]
  },
  {
   "cell_type": "code",
   "execution_count": null,
   "id": "4f11e05b-e222-4168-bc75-6238e4334467",
   "metadata": {},
   "outputs": [],
   "source": [
    "@dataclass\n",
    "class Book:\n",
    "    title: str\n",
    "\n",
    "    def __init__(self, config) -> None:\n",
    "        print(config)\n",
    "        self.config = config\n",
    "\n",
    "    @property\n",
    "    def title(self) -> str:\n",
    "        return self._title\n",
    "\n",
    "    @title.setter\n",
    "    def title(self, value: str):\n",
    "        self._title = value"
   ]
  },
  {
   "cell_type": "code",
   "execution_count": null,
   "id": "a3442883-cdc8-4760-81be-9c70cf210d4a",
   "metadata": {},
   "outputs": [],
   "source": [
    "book = Book(100)"
   ]
  },
  {
   "cell_type": "code",
   "execution_count": null,
   "id": "e1c49301-bcc1-4302-8d77-1ef76a0e6d67",
   "metadata": {},
   "outputs": [],
   "source": [
    "book.title"
   ]
  },
  {
   "cell_type": "code",
   "execution_count": null,
   "id": "2a3793e2-7f6a-480f-8a10-d85522d42736",
   "metadata": {},
   "outputs": [],
   "source": []
  }
 ],
 "metadata": {
  "kernelspec": {
   "display_name": "Python 3 (ipykernel)",
   "language": "python",
   "name": "python3"
  },
  "language_info": {
   "codemirror_mode": {
    "name": "ipython",
    "version": 3
   },
   "file_extension": ".py",
   "mimetype": "text/x-python",
   "name": "python",
   "nbconvert_exporter": "python",
   "pygments_lexer": "ipython3",
   "version": "3.11.5"
  }
 },
 "nbformat": 4,
 "nbformat_minor": 5
}
