{
 "cells": [
  {
   "cell_type": "code",
   "execution_count": null,
   "id": "90f4be6d-d22d-41a3-9197-d9903ed8be35",
   "metadata": {},
   "outputs": [],
   "source": [
    "# %load_ext autoreload\n",
    "# %autoreload 2"
   ]
  },
  {
   "cell_type": "code",
   "execution_count": null,
   "id": "ae89f5fa-9fb2-4cd6-a74c-a350297f93b9",
   "metadata": {},
   "outputs": [],
   "source": [
    "from torch.optim import AdamW\n",
    "from torch.utils.data import DataLoader\n",
    "\n",
    "from transformers import AutoTokenizer\n",
    "from datasets import load_dataset\n",
    "\n",
    "from tklearn.metrics import Accuracy\n",
    "from tklearn.nn import Trainer, Evaluator\n",
    "from tklearn.nn.callbacks import ProgbarLogger, EarlyStopping\n",
    "from tklearn.nn.prototypes import PrototypeForSequenceClassification, PrototypeCallback"
   ]
  },
  {
   "cell_type": "code",
   "execution_count": null,
   "id": "85c9740a-eca6-4a17-b937-4c24d9975982",
   "metadata": {},
   "outputs": [],
   "source": [
    "MODEL_NAME_OR_PATH = \"google-bert/bert-base-uncased\"\n",
    "DATASET = \"yelp_review_full\""
   ]
  },
  {
   "cell_type": "code",
   "execution_count": null,
   "id": "a1a92543-1d7b-4061-aa4f-e3393d3926dd",
   "metadata": {},
   "outputs": [],
   "source": [
    "dataset = load_dataset(DATASET)\n",
    "\n",
    "dataset[\"train\"][100]"
   ]
  },
  {
   "cell_type": "code",
   "execution_count": null,
   "id": "2b7f1717-9942-42e0-8239-ffc74cf2832d",
   "metadata": {},
   "outputs": [],
   "source": [
    "tokenizer = AutoTokenizer.from_pretrained(MODEL_NAME_OR_PATH)\n",
    "\n",
    "def tokenize_function(examples):\n",
    "    return tokenizer(examples[\"text\"], padding=\"max_length\", truncation=True)"
   ]
  },
  {
   "cell_type": "code",
   "execution_count": null,
   "id": "a5edf743-902b-49ac-90e8-7569b14fa619",
   "metadata": {},
   "outputs": [],
   "source": [
    "tokenized_datasets = dataset.map(tokenize_function, batched=True)\n",
    "tokenized_datasets = tokenized_datasets.rename_column(\"label\", \"labels\")\n",
    "tokenized_datasets.set_format(\"torch\")"
   ]
  },
  {
   "cell_type": "code",
   "execution_count": null,
   "id": "286e70a6-8d16-4c57-97ab-f53abfa8ca99",
   "metadata": {},
   "outputs": [],
   "source": [
    "small_train_dataset = tokenized_datasets[\"train\"].shuffle(seed=42).select(range(1000))\n",
    "small_eval_dataset = tokenized_datasets[\"test\"].shuffle(seed=42).select(range(1000))"
   ]
  },
  {
   "cell_type": "code",
   "execution_count": null,
   "id": "e3b85f70-9064-4439-834b-f4191f03caf5",
   "metadata": {},
   "outputs": [],
   "source": [
    "model = PrototypeForSequenceClassification.from_pretrained(MODEL_NAME_OR_PATH)\n",
    "\n",
    "model.to(\"mps\")\n",
    "\n",
    "train_dataloader = DataLoader(small_train_dataset, shuffle=True, batch_size=16)"
   ]
  },
  {
   "cell_type": "code",
   "execution_count": null,
   "id": "cf8da2fe-fc4a-4ab7-8520-f1be470dd346",
   "metadata": {},
   "outputs": [],
   "source": [
    "valid_dataloader = DataLoader(small_eval_dataset, batch_size=32)\n",
    "\n",
    "evaluator = Evaluator(model, valid_dataloader, callbacks=[PrototypeCallback(train_dataloader), ProgbarLogger()], metrics={\"acuracy\": Accuracy()}, prefix=\"valid_\")"
   ]
  },
  {
   "cell_type": "code",
   "execution_count": null,
   "id": "f8478beb-f629-4868-82bf-48241d09c465",
   "metadata": {},
   "outputs": [],
   "source": [
    "optimizer = AdamW(model.parameters(), lr=1e-5)\n",
    "\n",
    "evaluator = Evaluator(model, valid_dataloader, callbacks=[PrototypeCallback(train_dataloader), ProgbarLogger()], metrics={\"acuracy\": Accuracy()}, prefix=\"valid_\")\n",
    "\n",
    "trainer = Trainer(model, train_dataloader, optimizer=optimizer, callbacks=[ProgbarLogger(), EarlyStopping(patience=0)], evaluator=evaluator, epochs=10)"
   ]
  },
  {
   "cell_type": "code",
   "execution_count": null,
   "id": "0ba72734-3695-4232-bcdd-88843cc14c9e",
   "metadata": {},
   "outputs": [],
   "source": [
    "trainer.train()"
   ]
  },
  {
   "cell_type": "code",
   "execution_count": null,
   "id": "e922eed6-e0a6-4245-81ec-e4ff11612249",
   "metadata": {},
   "outputs": [],
   "source": []
  }
 ],
 "metadata": {
  "kernelspec": {
   "display_name": "Python 3 (ipykernel)",
   "language": "python",
   "name": "python3"
  },
  "language_info": {
   "codemirror_mode": {
    "name": "ipython",
    "version": 3
   },
   "file_extension": ".py",
   "mimetype": "text/x-python",
   "name": "python",
   "nbconvert_exporter": "python",
   "pygments_lexer": "ipython3",
   "version": "3.11.5"
  }
 },
 "nbformat": 4,
 "nbformat_minor": 5
}
