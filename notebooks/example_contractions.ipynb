{
 "cells": [
  {
   "cell_type": "code",
   "execution_count": null,
   "id": "773f5c6e-65a9-44db-b9bb-ab62e18fec5b",
   "metadata": {},
   "outputs": [],
   "source": [
    "from tklearn import lang"
   ]
  },
  {
   "cell_type": "code",
   "execution_count": null,
   "id": "e66718f7-a441-4686-a2a5-58e0a002b30e",
   "metadata": {},
   "outputs": [],
   "source": [
    "lang.en.uncontract(\"I'm yasas\")"
   ]
  },
  {
   "cell_type": "code",
   "execution_count": null,
   "id": "d0835d2b-499b-46d4-9598-63fb4b91a89b",
   "metadata": {},
   "outputs": [],
   "source": []
  }
 ],
 "metadata": {
  "kernelspec": {
   "display_name": "Python 3 (ipykernel)",
   "language": "python",
   "name": "python3"
  },
  "language_info": {
   "codemirror_mode": {
    "name": "ipython",
    "version": 3
   },
   "file_extension": ".py",
   "mimetype": "text/x-python",
   "name": "python",
   "nbconvert_exporter": "python",
   "pygments_lexer": "ipython3",
   "version": "3.11.5"
  }
 },
 "nbformat": 4,
 "nbformat_minor": 5
}
