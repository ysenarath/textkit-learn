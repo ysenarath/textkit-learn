{
 "cells": [
  {
   "cell_type": "code",
   "execution_count": 1,
   "id": "58a731ac-3fea-412e-a8e5-c553802ce795",
   "metadata": {},
   "outputs": [
    {
     "name": "stdout",
     "output_type": "stream",
     "text": [
      "{'accuracy': 0.6,\n",
      " 'macro': {'f1': 0.48888888888888893,\n",
      "           'precision': 0.5,\n",
      "           'recall': 0.5555555555555555},\n",
      " 'micro': {'f1': 0.6, 'precision': 0.6, 'recall': 0.6},\n",
      " 'weighted': {'f1': 0.6133333333333334, 'precision': 0.7, 'recall': 0.6}}\n"
     ]
    }
   ],
   "source": [
    "from pprint import pprint\n",
    "\n",
    "from tklearn.metrics import TextClassificationMetric\n",
    "\n",
    "y_true = [0, 1, 2, 2, 2]\n",
    "y_pred = [0, 0, 2, 2, 1]\n",
    "\n",
    "target_names = ['class 0', 'class 1', 'class 2']\n",
    "\n",
    "classification_report = TextClassificationMetric(num_labels=len(target_names))\n",
    "\n",
    "pprint(classification_report(y_true, y_pred))"
   ]
  },
  {
   "cell_type": "code",
   "execution_count": null,
   "id": "3f1f7db5-fee8-41cf-a901-4003dd942464",
   "metadata": {},
   "outputs": [],
   "source": []
  }
 ],
 "metadata": {
  "kernelspec": {
   "display_name": "Python 3 (ipykernel)",
   "language": "python",
   "name": "python3"
  },
  "language_info": {
   "codemirror_mode": {
    "name": "ipython",
    "version": 3
   },
   "file_extension": ".py",
   "mimetype": "text/x-python",
   "name": "python",
   "nbconvert_exporter": "python",
   "pygments_lexer": "ipython3",
   "version": "3.11.5"
  }
 },
 "nbformat": 4,
 "nbformat_minor": 5
}
