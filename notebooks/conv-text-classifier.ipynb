{
 "cells": [
  {
   "cell_type": "code",
   "execution_count": 8,
   "id": "ce5e7dca-8266-4f5e-a8f2-79c1bc8caf60",
   "metadata": {},
   "outputs": [],
   "source": [
    "from gensim.models import KeyedVectors\n",
    "import torch\n",
    "\n",
    "from tklearn.embedding import KeyedVectors\n",
    "from tklearn.preprocessing.tokenizer import EmbeddingTokenizer\n",
    "from tklearn.nn.models import ConvTextClassifier"
   ]
  },
  {
   "cell_type": "code",
   "execution_count": 1,
   "id": "0dcbe13f-05ec-4659-90c2-b829b4201d54",
   "metadata": {},
   "outputs": [],
   "source": [
    "# Creating the model\n",
    "weights = KeyedVectors.load_word2vec_format(\n",
    "    'word2vec-slim/GoogleNews-vectors-negative300-SLIM.bin', \n",
    "    binary=True\n",
    ")\n",
    "weights = KeyedVectors(weights)"
   ]
  },
  {
   "cell_type": "code",
   "execution_count": 4,
   "id": "2d911410-fa10-4cd7-971d-d17c668154a1",
   "metadata": {},
   "outputs": [],
   "source": [
    "tokenizer = EmbeddingTokenizer(weights, padding_idx=0)"
   ]
  },
  {
   "cell_type": "code",
   "execution_count": 10,
   "id": "90351836-b92d-4d25-b819-403bbe4b2e86",
   "metadata": {},
   "outputs": [],
   "source": [
    "model = ConvTextClassifier(\n",
    "    weights=tokenizer.weights,\n",
    "    padding_idx=tokenizer.padding_idx,\n",
    "    output_size=10,\n",
    ")"
   ]
  },
  {
   "cell_type": "code",
   "execution_count": 11,
   "id": "e8074c20-3ffa-4c51-8d4a-05b3294760a7",
   "metadata": {},
   "outputs": [
    {
     "data": {
      "text/plain": [
       "tensor([[-0.0922, -0.0097, -0.0976,  0.0276,  0.0282,  0.0233, -0.0039,  0.0128,\n",
       "          0.0114,  0.0023]], grad_fn=<AddmmBackward0>)"
      ]
     },
     "execution_count": 11,
     "metadata": {},
     "output_type": "execute_result"
    }
   ],
   "source": [
    "input = tokenizer.tokenize(['this is <pad> the at <pad> go an example'])\n",
    "\n",
    "input = torch.from_numpy(input)\n",
    "\n",
    "model(input)"
   ]
  },
  {
   "cell_type": "code",
   "execution_count": null,
   "id": "03c56060-b55c-4d44-aed4-fb77c2d2f5d0",
   "metadata": {},
   "outputs": [],
   "source": []
  }
 ],
 "metadata": {
  "kernelspec": {
   "display_name": "Python 3 (ipykernel)",
   "language": "python",
   "name": "python3"
  },
  "language_info": {
   "codemirror_mode": {
    "name": "ipython",
    "version": 3
   },
   "file_extension": ".py",
   "mimetype": "text/x-python",
   "name": "python",
   "nbconvert_exporter": "python",
   "pygments_lexer": "ipython3",
   "version": "3.11.5"
  }
 },
 "nbformat": 4,
 "nbformat_minor": 5
}
